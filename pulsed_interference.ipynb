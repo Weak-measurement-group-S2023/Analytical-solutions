{
 "cells": [
  {
   "cell_type": "code",
   "execution_count": 35,
   "metadata": {},
   "outputs": [],
   "source": [
    "#sympy pour effectuer les calculs\n",
    "import sympy as smp\n",
    "from IPython.display import display, Math"
   ]
  },
  {
   "cell_type": "code",
   "execution_count": 36,
   "metadata": {},
   "outputs": [],
   "source": [
    "a = smp.symbols(r'\\alpha', real=False, complex = True)\n",
    "b = smp.symbols(r'\\beta', real=False, complex = True)\n",
    "u = smp.symbols(r'\\mu', real=False, complex = True)\n",
    "v = smp.symbols(r'\\nu', real=False, complex = True)\n",
    "t = smp.symbols('t', real=True)\n",
    "o = smp.symbols(r'\\sigma', real=True, positive = True)\n",
    "b = smp.symbols('b', real=False, complex = True)\n",
    "d = smp.symbols(r'\\delta', real=True)\n",
    "z = smp.symbols('z', real=True)\n",
    "k = smp.symbols('k', real=True, positive=True)\n",
    "w = smp.symbols(r'\\omega', real=True, positive=True)\n",
    "tau = smp.symbols(r'\\tau', real=True)\n",
    "c = smp.symbols('c', real=True, positive=True, constant=True)\n",
    "#delta_D = smp.symbols(r'\\Delta', real=True)"
   ]
  },
  {
   "cell_type": "code",
   "execution_count": 37,
   "metadata": {},
   "outputs": [
    {
     "data": {
      "text/latex": [
       "$\\displaystyle |E_{1}(z,t)> = \\frac{2^{\\frac{3}{4}} e^{i \\left(- \\omega t + k z\\right)} e^{- \\frac{t^{2}}{4 \\sigma^{2}}}}{2 \\sqrt[4]{\\pi} \\sqrt{\\sigma}}$"
      ],
      "text/plain": [
       "<IPython.core.display.Math object>"
      ]
     },
     "metadata": {},
     "output_type": "display_data"
    },
    {
     "data": {
      "text/latex": [
       "$\\displaystyle A(t) = \\frac{2^{\\frac{3}{4}} e^{- \\frac{t^{2}}{4 \\sigma^{2}}}}{2 \\sqrt[4]{\\pi} \\sqrt{\\sigma}}$"
      ],
      "text/plain": [
       "<IPython.core.display.Math object>"
      ]
     },
     "metadata": {},
     "output_type": "display_data"
    },
    {
     "data": {
      "text/latex": [
       "$\\displaystyle |E_{2}(z,t)> = \\frac{2^{\\frac{3}{4}} e^{i \\left(- \\omega \\left(\\tau + t\\right) + k z\\right)} e^{- \\frac{\\left(\\tau + t\\right)^{2}}{4 \\sigma^{2}}}}{2 \\sqrt[4]{\\pi} \\sqrt{\\sigma}}$"
      ],
      "text/plain": [
       "<IPython.core.display.Math object>"
      ]
     },
     "metadata": {},
     "output_type": "display_data"
    },
    {
     "data": {
      "text/latex": [
       "$\\displaystyle |E_{i}(z,t)> = \\frac{2^{\\frac{3}{4}} e^{i \\left(- \\omega t + k z\\right)} e^{- \\frac{t^{2}}{4 \\sigma^{2}}}}{2 \\sqrt[4]{\\pi} \\sqrt{\\sigma}} + \\frac{2^{\\frac{3}{4}} e^{i \\left(- \\omega \\left(\\tau + t\\right) + k z\\right)} e^{- \\frac{\\left(\\tau + t\\right)^{2}}{4 \\sigma^{2}}}}{2 \\sqrt[4]{\\pi} \\sqrt{\\sigma}}$"
      ],
      "text/plain": [
       "<IPython.core.display.Math object>"
      ]
     },
     "metadata": {},
     "output_type": "display_data"
    },
    {
     "data": {
      "text/latex": [
       "$\\displaystyle \\frac{2^{\\frac{3}{4}} \\hat{U} e^{i \\left(- \\omega t + k z\\right)} e^{- \\frac{t^{2}}{4 \\sigma^{2}}}}{2 \\sqrt[4]{\\pi} \\sqrt{\\sigma}} = \\frac{2^{\\frac{3}{4}} e^{i \\left(- \\omega \\left(\\tau + t\\right) + k z\\right)} e^{- \\frac{\\left(\\tau + t\\right)^{2}}{4 \\sigma^{2}}}}{2 \\sqrt[4]{\\pi} \\sqrt{\\sigma}}$"
      ],
      "text/plain": [
       "<IPython.core.display.Math object>"
      ]
     },
     "metadata": {},
     "output_type": "display_data"
    },
    {
     "data": {
      "text/latex": [
       "$\\displaystyle \\hat{U} = e^{\\frac{- 4 i \\omega \\sigma^{2} \\tau + t^{2} - \\left(\\tau + t\\right)^{2}}{4 \\sigma^{2}}}$"
      ],
      "text/plain": [
       "<IPython.core.display.Math object>"
      ]
     },
     "metadata": {},
     "output_type": "display_data"
    },
    {
     "data": {
      "text/latex": [
       "$\\displaystyle e^{\\frac{- 4 i \\omega \\sigma^{2} \\tau + t^{2} - \\left(\\tau + t\\right)^{2}}{4 \\sigma^{2}}} = e^{i \\delta}$"
      ],
      "text/plain": [
       "<IPython.core.display.Math object>"
      ]
     },
     "metadata": {},
     "output_type": "display_data"
    },
    {
     "data": {
      "text/latex": [
       "$\\displaystyle \\delta = \\left( \\operatorname{asin}{\\left(e^{- \\frac{\\tau \\left(\\tau + 2 t\\right)}{4 \\sigma^{2}}} \\sin{\\left(\\omega \\tau \\right)} \\right)} + \\pi,\\right)$"
      ],
      "text/plain": [
       "<IPython.core.display.Math object>"
      ]
     },
     "metadata": {},
     "output_type": "display_data"
    },
    {
     "data": {
      "text/latex": [
       "$\\displaystyle |E_{t}(z,t)> = \\frac{\\sqrt{2} \\cdot \\left(\\frac{2^{\\frac{3}{4}} e^{i \\left(- \\omega t + k z\\right)} e^{- \\frac{t^{2}}{4 \\sigma^{2}}}}{2 \\sqrt[4]{\\pi} \\sqrt{\\sigma}} + \\frac{2^{\\frac{3}{4}} e^{i \\left(- \\omega \\left(\\tau + t\\right) + k z\\right)} e^{- \\frac{\\left(\\tau + t\\right)^{2}}{4 \\sigma^{2}}}}{2 \\sqrt[4]{\\pi} \\sqrt{\\sigma}}\\right)}{2}$"
      ],
      "text/plain": [
       "<IPython.core.display.Math object>"
      ]
     },
     "metadata": {},
     "output_type": "display_data"
    }
   ],
   "source": [
    "A = (smp.sqrt(1/((smp.sqrt(2*smp.pi))*o)))*smp.exp(-((t)**2)/(4*o**2))\n",
    "\n",
    "E_1 = A*smp.exp(smp.I*(k*(z) - w*t))\n",
    "display(Math(r'|E_{1}(z,t)> = '+smp.latex(E_1)))\n",
    "\n",
    "A_f = (smp.sqrt(1/((smp.sqrt(2*smp.pi))*o)))*smp.exp(-(((t+tau))**2)/(4*o**2))\n",
    "display(Math('A(t) = '+smp.latex(A)))\n",
    "\n",
    "E_2 = A_f*smp.exp(smp.I*(k*(z) - w*(t+tau)))\n",
    "display(Math(r'|E_{2}(z,t)> = '+smp.latex(E_2)))\n",
    "\n",
    "#champ total initial\n",
    "E_i = (E_1+E_2)\n",
    "display(Math(r'|E_{i}(z,t)> = '+smp.latex(E_i)))\n",
    "\n",
    "#résourd l'opérateur d'interaction\n",
    "U = smp.symbols(r'\\hat{U}')\n",
    "eq1 = smp.Eq(U*E_1, E_2)\n",
    "display(Math(smp.latex(eq1)))\n",
    "eq2 = smp.solve(eq1, U)\n",
    "U = eq2[0].simplify()\n",
    "display(Math(r'\\hat{U} = ' + smp.latex(U)))\n",
    "\n",
    "eq3 = smp.Eq(U, smp.exp(smp.I*d))\n",
    "display(Math(smp.latex(eq3)))\n",
    "eq4 = smp.solve(eq3, d)\n",
    "delta = eq4[0]\n",
    "display(Math(r'\\delta = ' + smp.latex(delta)))\n",
    "\n",
    "#postselection sur D = 1/sqrt(2)*(H_faible + V)\n",
    "E_t = ((1/smp.sqrt(2))*(E_1 + E_2))\n",
    "#mesure faible sur H\n",
    "display(Math(r'|E_{t}(z,t)> = '+smp.latex(E_t)))"
   ]
  },
  {
   "cell_type": "code",
   "execution_count": 38,
   "metadata": {},
   "outputs": [
    {
     "data": {
      "text/latex": [
       "$\\displaystyle I(z,t) =\\frac{\\sqrt{2} \\left(e^{\\frac{t^{2}}{4 \\sigma^{2}}} + e^{\\frac{- 2 \\tau^{2} - 4 \\tau t + t^{2}}{4 \\sigma^{2}}} + 2 e^{\\frac{- \\tau^{2} - 2 \\tau t + t^{2}}{4 \\sigma^{2}}} \\cos{\\left(\\omega \\tau \\right)}\\right) e^{- \\frac{3 t^{2}}{4 \\sigma^{2}}}}{8 \\sqrt{\\pi} \\sigma}$"
      ],
      "text/plain": [
       "<IPython.core.display.Math object>"
      ]
     },
     "metadata": {},
     "output_type": "display_data"
    }
   ],
   "source": [
    "I = smp.re(smp.conjugate(E_t)*E_t)/2\n",
    "display(Math('I(z,t) =' +smp.latex((I.simplify()))))"
   ]
  },
  {
   "cell_type": "code",
   "execution_count": 39,
   "metadata": {},
   "outputs": [
    {
     "data": {
      "text/latex": [
       "$\\displaystyle G(\\tau) = e^{- \\tau \\left(i \\omega + \\frac{\\tau}{8 \\sigma^{2}}\\right)}$"
      ],
      "text/plain": [
       "<IPython.core.display.Math object>"
      ]
     },
     "metadata": {},
     "output_type": "display_data"
    },
    {
     "data": {
      "text/latex": [
       "$\\displaystyle G(0) = 1$"
      ],
      "text/plain": [
       "<IPython.core.display.Math object>"
      ]
     },
     "metadata": {},
     "output_type": "display_data"
    },
    {
     "data": {
      "text/latex": [
       "$\\displaystyle g^{(1)}(\\tau) = e^{- \\tau \\left(i \\omega + \\frac{\\tau}{8 \\sigma^{2}}\\right)}$"
      ],
      "text/plain": [
       "<IPython.core.display.Math object>"
      ]
     },
     "metadata": {},
     "output_type": "display_data"
    }
   ],
   "source": [
    "G_1_TAU = (smp.integrate(smp.conjugate(E_1)*E_2, (t, -smp.oo, smp.oo))).simplify()\n",
    "display(Math(r'G(\\tau) = ' + smp.latex(G_1_TAU)))\n",
    "\n",
    "G_1_ZERO = smp.integrate(smp.conjugate(E_1)*E_1, (t, -smp.oo, smp.oo))\n",
    "display(Math(r'G(0) = ' + smp.latex(G_1_ZERO.simplify())))\n",
    "\n",
    "g_1 = (G_1_TAU/G_1_ZERO).simplify()\n",
    "display(Math(r'g^{(1)}(\\tau) = ' + smp.latex(g_1)))"
   ]
  },
  {
   "cell_type": "code",
   "execution_count": 40,
   "metadata": {},
   "outputs": [
    {
     "data": {
      "text/latex": [
       "$\\displaystyle V=\\frac{2 e^{\\tau \\left(- i \\omega + \\frac{\\tau}{8 \\sigma^{2}} + \\frac{t}{2 \\sigma^{2}}\\right)}}{e^{\\frac{\\tau^{2}}{2 \\sigma^{2}} + \\frac{\\tau t}{\\sigma^{2}}} + 1}$"
      ],
      "text/plain": [
       "<IPython.core.display.Math object>"
      ]
     },
     "metadata": {},
     "output_type": "display_data"
    }
   ],
   "source": [
    "I_1 = (smp.conjugate(E_1)*E_1)\n",
    "I_2 = (smp.conjugate(E_2)*E_2)\n",
    "\n",
    "V = ((2*smp.sqrt(I_1)*smp.sqrt(I_2))/(I_1+I_2))*(g_1)\n",
    "display(Math(r'V='+smp.latex(V.simplify().doit())))"
   ]
  },
  {
   "cell_type": "code",
   "execution_count": 45,
   "metadata": {},
   "outputs": [
    {
     "data": {
      "text/latex": [
       "$\\displaystyle S(f) = 2 \\sqrt{2} \\sqrt{\\pi} \\sigma e^{- 32 \\pi^{2} \\sigma^{2} f^{2}}$"
      ],
      "text/plain": [
       "<IPython.core.display.Math object>"
      ]
     },
     "metadata": {},
     "output_type": "display_data"
    }
   ],
   "source": [
    "f = smp.symbols('f', real=True, constante=True, positive=True)\n",
    "G_1_TAU=G_1_TAU.subs(w, 2*smp.pi*f)\n",
    "#using the autocorrelation function\n",
    "S = (smp.integrate(G_1_TAU*smp.exp(-smp.I*2*smp.pi*f*tau), (tau, -smp.oo, smp.oo)))\n",
    "display(Math(r'S(f) = ' + smp.latex(S.simplify())))"
   ]
  },
  {
   "cell_type": "code",
   "execution_count": 46,
   "metadata": {},
   "outputs": [
    {
     "data": {
      "text/latex": [
       "$\\displaystyle I_s = \\frac{1}{4}$"
      ],
      "text/plain": [
       "<IPython.core.display.Math object>"
      ]
     },
     "metadata": {},
     "output_type": "display_data"
    }
   ],
   "source": [
    "I_s = smp.re(smp.integrate(S, (f, 0, smp.oo)))\n",
    "display(Math(r'I_s = ' + smp.latex(I_s.simplify())))"
   ]
  },
  {
   "cell_type": "code",
   "execution_count": 41,
   "metadata": {},
   "outputs": [
    {
     "data": {
      "text/latex": [
       "$\\displaystyle |\\varphi(\\theta, \\phi)> = \\alpha |H> + b |V>$"
      ],
      "text/plain": [
       "<IPython.core.display.Math object>"
      ]
     },
     "metadata": {},
     "output_type": "display_data"
    },
    {
     "data": {
      "text/latex": [
       "$\\displaystyle |\\Psi_i> = |\\varphi(\\theta, \\phi)> \\otimes |\\xi(z,t)>$"
      ],
      "text/plain": [
       "<IPython.core.display.Math object>"
      ]
     },
     "metadata": {},
     "output_type": "display_data"
    }
   ],
   "source": [
    "#intiallement\n",
    "phi = a + b\n",
    "H = smp.symbols('|H>')\n",
    "V = smp.symbols('|V>')\n",
    "display(Math(r'|\\varphi(\\theta, \\phi)> = ' +smp.latex(a*H + b*V)))\n",
    "display(Math(r'|\\Psi_i> = |\\varphi(\\theta, \\phi)> \\otimes |\\xi(z,t)>'))"
   ]
  },
  {
   "cell_type": "code",
   "execution_count": 42,
   "metadata": {},
   "outputs": [
    {
     "data": {
      "text/latex": [
       "$\\displaystyle |\\xi_1(z,t)> = \\frac{2^{\\frac{3}{4}} e^{- \\frac{t^{2}}{4 \\sigma^{2}}}}{2 \\sqrt[4]{\\pi} \\sqrt{\\sigma}}$"
      ],
      "text/plain": [
       "<IPython.core.display.Math object>"
      ]
     },
     "metadata": {},
     "output_type": "display_data"
    },
    {
     "data": {
      "text/latex": [
       "$\\displaystyle |\\xi_2(z,t+\\tau)> = \\frac{2^{\\frac{3}{4}} e^{- \\frac{\\left(\\tau + t\\right)^{2}}{4 \\sigma^{2}}}}{2 \\sqrt[4]{\\pi} \\sqrt{\\sigma}}$"
      ],
      "text/plain": [
       "<IPython.core.display.Math object>"
      ]
     },
     "metadata": {},
     "output_type": "display_data"
    },
    {
     "data": {
      "text/latex": [
       "$\\displaystyle |\\Psi_i> = |\\varphi(\\theta, \\phi)> \\otimes |\\xi(z,t)>$"
      ],
      "text/plain": [
       "<IPython.core.display.Math object>"
      ]
     },
     "metadata": {},
     "output_type": "display_data"
    },
    {
     "data": {
      "text/latex": [
       "$\\displaystyle |\\Psi_i> = \\frac{2^{\\frac{3}{4}} \\alpha e^{- \\frac{t^{2}}{4 \\sigma^{2}}}}{2 \\sqrt[4]{\\pi} \\sqrt{\\sigma}} + \\frac{2^{\\frac{3}{4}} b e^{- \\frac{\\left(\\tau + t\\right)^{2}}{4 \\sigma^{2}}}}{2 \\sqrt[4]{\\pi} \\sqrt{\\sigma}}$"
      ],
      "text/plain": [
       "<IPython.core.display.Math object>"
      ]
     },
     "metadata": {},
     "output_type": "display_data"
    },
    {
     "data": {
      "text/latex": [
       "$\\displaystyle |\\Psi_f> = <J|U|\\Psi_i> = \\frac{2^{\\frac{3}{4}} \\alpha e^{- \\frac{t^{2}}{4 \\sigma^{2}}} \\overline{\\mu}}{2 \\sqrt[4]{\\pi} \\sqrt{\\sigma}} + \\frac{2^{\\frac{3}{4}} b e^{- \\frac{\\left(\\tau + t\\right)^{2}}{4 \\sigma^{2}}} \\overline{\\nu}}{2 \\sqrt[4]{\\pi} \\sqrt{\\sigma}}$"
      ],
      "text/plain": [
       "<IPython.core.display.Math object>"
      ]
     },
     "metadata": {},
     "output_type": "display_data"
    },
    {
     "data": {
      "text/latex": [
       "$\\displaystyle <T> =\\frac{\\tau \\left(- \\alpha \\nu \\overline{\\mu} \\overline{b} - \\mu b \\overline{\\alpha} \\overline{\\nu} - 2 \\nu b e^{\\frac{\\tau^{2}}{8 \\sigma^{2}}} \\overline{\\nu} \\overline{b}\\right) e^{- \\frac{\\tau^{2}}{8 \\sigma^{2}}}}{2}$"
      ],
      "text/plain": [
       "<IPython.core.display.Math object>"
      ]
     },
     "metadata": {},
     "output_type": "display_data"
    },
    {
     "data": {
      "text/latex": [
       "$\\displaystyle <T> =\\frac{\\tau \\left(- \\alpha \\nu \\overline{\\mu} \\overline{b} - \\mu b \\overline{\\alpha} \\overline{\\nu} - 2 \\nu b e^{\\frac{\\tau^{2}}{8 \\sigma^{2}}} \\overline{\\nu} \\overline{b}\\right) e^{- \\frac{\\tau^{2}}{8 \\sigma^{2}}}}{2}$"
      ],
      "text/plain": [
       "<IPython.core.display.Math object>"
      ]
     },
     "metadata": {},
     "output_type": "display_data"
    }
   ],
   "source": [
    "xi_i = (smp.sqrt(1/((smp.sqrt(2*smp.pi))*o)))*smp.exp(-((t)**2)/(4*o**2))\n",
    "xi_1 = xi_i\n",
    "display(Math(r'|\\xi_1(z,t)> = '+smp.latex(xi_1)))\n",
    "\n",
    "xi_2 = (smp.sqrt(1/((smp.sqrt(2*smp.pi))*o)))*smp.exp(-(((t+tau))**2)/(4*o**2))\n",
    "display(Math(r'|\\xi_2(z,t+\\tau)> = '+smp.latex(xi_2)))\n",
    "display(Math(r'|\\Psi_i> = |\\varphi(\\theta, \\phi)> \\otimes |\\xi(z,t)>'))\n",
    "psi_i = (a*xi_1+b*xi_2)\n",
    "display(Math(r'|\\Psi_i> = '+smp.latex(psi_i)))\n",
    "\n",
    "psi_f = (smp.conjugate(u)*a*xi_1+smp.conjugate(v)*b*xi_2)\n",
    "display(Math(r'|\\Psi_f> = <J|U|\\Psi_i> = '+smp.latex(psi_f)))\n",
    "\n",
    "T = (smp.integrate(smp.conjugate(psi_f)*t*psi_f, (t, -smp.oo, smp.oo))).simplify()\n",
    "display(Math(r'<T> ='+smp.latex(T)))\n"
   ]
  },
  {
   "cell_type": "code",
   "execution_count": 43,
   "metadata": {},
   "outputs": [
    {
     "data": {
      "text/latex": [
       "$\\displaystyle |F(\\omega)> = 2^{\\frac{3}{4}} \\sqrt[4]{\\pi} \\sqrt{\\sigma} \\left(\\alpha \\overline{\\mu} + b e^{i \\omega \\tau} \\overline{\\nu}\\right) e^{- \\omega^{2} \\sigma^{2}}$"
      ],
      "text/plain": [
       "<IPython.core.display.Math object>"
      ]
     },
     "metadata": {},
     "output_type": "display_data"
    }
   ],
   "source": [
    "F = (smp.integrate(psi_f*smp.exp(-smp.I*w*t), (t, -smp.oo, smp.oo))).simplify()\n",
    "display(Math(r'|F(\\omega)> = ' + smp.latex(F)))"
   ]
  },
  {
   "cell_type": "code",
   "execution_count": 44,
   "metadata": {},
   "outputs": [
    {
     "data": {
      "text/latex": [
       "$\\displaystyle <\\Omega> = \\frac{i \\pi \\tau \\left(- \\alpha \\nu \\overline{\\mu} \\overline{b} + \\mu b \\overline{\\alpha} \\overline{\\nu}\\right) e^{- \\frac{\\tau^{2}}{8 \\sigma^{2}}}}{2 \\sigma^{2}}$"
      ],
      "text/plain": [
       "<IPython.core.display.Math object>"
      ]
     },
     "metadata": {},
     "output_type": "display_data"
    }
   ],
   "source": [
    "W = smp.integrate(smp.conjugate(F)*w*F, (w, -smp.oo, smp.oo))\n",
    "display(Math(r'<\\Omega> = ' + smp.latex(W.simplify())))"
   ]
  },
  {
   "cell_type": "code",
   "execution_count": null,
   "metadata": {},
   "outputs": [],
   "source": []
  }
 ],
 "metadata": {
  "kernelspec": {
   "display_name": "Python 3",
   "language": "python",
   "name": "python3"
  },
  "language_info": {
   "codemirror_mode": {
    "name": "ipython",
    "version": 3
   },
   "file_extension": ".py",
   "mimetype": "text/x-python",
   "name": "python",
   "nbconvert_exporter": "python",
   "pygments_lexer": "ipython3",
   "version": "3.11.4"
  },
  "orig_nbformat": 4
 },
 "nbformat": 4,
 "nbformat_minor": 2
}
