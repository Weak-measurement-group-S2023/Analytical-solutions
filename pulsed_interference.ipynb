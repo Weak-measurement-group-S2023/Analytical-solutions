{
 "cells": [
  {
   "cell_type": "code",
   "execution_count": 16,
   "metadata": {},
   "outputs": [],
   "source": [
    "#sympy pour effectuer les calculs\n",
    "import sympy as smp\n",
    "from IPython.display import display, Math"
   ]
  },
  {
   "cell_type": "code",
   "execution_count": 17,
   "metadata": {},
   "outputs": [],
   "source": [
    "a = smp.symbols(r'\\alpha', real=False, complex = True)\n",
    "b = smp.symbols(r'\\beta', real=False, complex = True)\n",
    "u = smp.symbols(r'\\mu', real=False, complex = True)\n",
    "v = smp.symbols(r'\\nu', real=False, complex = True)\n",
    "t = smp.symbols('t', real=True)\n",
    "o = smp.symbols(r'\\sigma', real=True, positive = True)\n",
    "b = smp.symbols('b', real=False, complex = True)\n",
    "d = smp.symbols(r'\\delta', real=True)\n",
    "z = smp.symbols('z', real=True)\n",
    "k = smp.symbols('k', real=True, positive=True)\n",
    "w = smp.symbols(r'\\omega', real=True, positive=True)\n",
    "tau = smp.symbols(r'\\tau', real=True)\n",
    "c = smp.symbols('c', real=True, positive=True, constant=True)\n",
    "#delta_D = smp.symbols(r'\\Delta', real=True)"
   ]
  },
  {
   "cell_type": "code",
   "execution_count": 18,
   "metadata": {},
   "outputs": [
    {
     "data": {
      "text/latex": [
       "$\\displaystyle |E_{1}(z,t)> = \\frac{2^{\\frac{3}{4}} e^{i \\left(- \\omega t + k z\\right)} e^{- \\frac{t^{2}}{4 \\sigma^{2}}}}{2 \\sqrt[4]{\\pi} \\sqrt{\\sigma}}$"
      ],
      "text/plain": [
       "<IPython.core.display.Math object>"
      ]
     },
     "metadata": {},
     "output_type": "display_data"
    },
    {
     "data": {
      "text/latex": [
       "$\\displaystyle A(t) = \\frac{2^{\\frac{3}{4}} e^{- \\frac{t^{2}}{4 \\sigma^{2}}}}{2 \\sqrt[4]{\\pi} \\sqrt{\\sigma}}$"
      ],
      "text/plain": [
       "<IPython.core.display.Math object>"
      ]
     },
     "metadata": {},
     "output_type": "display_data"
    },
    {
     "data": {
      "text/latex": [
       "$\\displaystyle |E_{2}(z,t)> = \\frac{2^{\\frac{3}{4}} e^{i \\left(- \\omega \\left(\\tau + t\\right) + k z\\right)} e^{- \\frac{\\left(\\tau + t\\right)^{2}}{4 \\sigma^{2}}}}{2 \\sqrt[4]{\\pi} \\sqrt{\\sigma}}$"
      ],
      "text/plain": [
       "<IPython.core.display.Math object>"
      ]
     },
     "metadata": {},
     "output_type": "display_data"
    },
    {
     "data": {
      "text/latex": [
       "$\\displaystyle |E_{i}(z,t)> = \\frac{2^{\\frac{3}{4}} e^{i \\left(- \\omega t + k z\\right)} e^{- \\frac{t^{2}}{4 \\sigma^{2}}}}{2 \\sqrt[4]{\\pi} \\sqrt{\\sigma}} + \\frac{2^{\\frac{3}{4}} e^{i \\left(- \\omega \\left(\\tau + t\\right) + k z\\right)} e^{- \\frac{\\left(\\tau + t\\right)^{2}}{4 \\sigma^{2}}}}{2 \\sqrt[4]{\\pi} \\sqrt{\\sigma}}$"
      ],
      "text/plain": [
       "<IPython.core.display.Math object>"
      ]
     },
     "metadata": {},
     "output_type": "display_data"
    },
    {
     "data": {
      "text/latex": [
       "$\\displaystyle \\frac{2^{\\frac{3}{4}} \\hat{U} e^{i \\left(- \\omega t + k z\\right)} e^{- \\frac{t^{2}}{4 \\sigma^{2}}}}{2 \\sqrt[4]{\\pi} \\sqrt{\\sigma}} = \\frac{2^{\\frac{3}{4}} e^{i \\left(- \\omega \\left(\\tau + t\\right) + k z\\right)} e^{- \\frac{\\left(\\tau + t\\right)^{2}}{4 \\sigma^{2}}}}{2 \\sqrt[4]{\\pi} \\sqrt{\\sigma}}$"
      ],
      "text/plain": [
       "<IPython.core.display.Math object>"
      ]
     },
     "metadata": {},
     "output_type": "display_data"
    },
    {
     "data": {
      "text/latex": [
       "$\\displaystyle \\hat{U} = e^{\\frac{- 4 i \\omega \\sigma^{2} \\tau + t^{2} - \\left(\\tau + t\\right)^{2}}{4 \\sigma^{2}}}$"
      ],
      "text/plain": [
       "<IPython.core.display.Math object>"
      ]
     },
     "metadata": {},
     "output_type": "display_data"
    },
    {
     "data": {
      "text/latex": [
       "$\\displaystyle e^{\\frac{- 4 i \\omega \\sigma^{2} \\tau + t^{2} - \\left(\\tau + t\\right)^{2}}{4 \\sigma^{2}}} = e^{i \\delta}$"
      ],
      "text/plain": [
       "<IPython.core.display.Math object>"
      ]
     },
     "metadata": {},
     "output_type": "display_data"
    },
    {
     "data": {
      "text/latex": [
       "$\\displaystyle \\delta = \\left( \\operatorname{asin}{\\left(e^{- \\frac{\\tau \\left(\\tau + 2 t\\right)}{4 \\sigma^{2}}} \\sin{\\left(\\omega \\tau \\right)} \\right)} + \\pi,\\right)$"
      ],
      "text/plain": [
       "<IPython.core.display.Math object>"
      ]
     },
     "metadata": {},
     "output_type": "display_data"
    },
    {
     "data": {
      "text/latex": [
       "$\\displaystyle |E_{t}(z,t)> = \\frac{\\sqrt{2} \\cdot \\left(\\frac{2^{\\frac{3}{4}} e^{i \\left(- \\omega t + k z\\right)} e^{- \\frac{t^{2}}{4 \\sigma^{2}}}}{2 \\sqrt[4]{\\pi} \\sqrt{\\sigma}} + \\frac{2^{\\frac{3}{4}} e^{i \\left(- \\omega \\left(\\tau + t\\right) + k z\\right)} e^{- \\frac{\\left(\\tau + t\\right)^{2}}{4 \\sigma^{2}}}}{2 \\sqrt[4]{\\pi} \\sqrt{\\sigma}}\\right)}{2}$"
      ],
      "text/plain": [
       "<IPython.core.display.Math object>"
      ]
     },
     "metadata": {},
     "output_type": "display_data"
    }
   ],
   "source": [
    "A = (smp.sqrt(1/((smp.sqrt(2*smp.pi))*o)))*smp.exp(-((t)**2)/(4*o**2))\n",
    "\n",
    "E_1 = A*smp.exp(smp.I*(k*(z) - w*t))\n",
    "display(Math(r'|E_{1}(z,t)> = '+smp.latex(E_1)))\n",
    "\n",
    "A_f = (smp.sqrt(1/((smp.sqrt(2*smp.pi))*o)))*smp.exp(-((t+tau)**2)/(4*o**2))\n",
    "display(Math('A(t) = '+smp.latex(A)))\n",
    "\n",
    "E_2 = A_f*smp.exp(smp.I*(k*(z) - w*(t+tau)))\n",
    "display(Math(r'|E_{2}(z,t)> = '+smp.latex(E_2)))\n",
    "\n",
    "#champ total initial\n",
    "E_i = (E_1+E_2)\n",
    "display(Math(r'|E_{i}(z,t)> = '+smp.latex(E_i)))\n",
    "\n",
    "#résourd l'opérateur d'interaction\n",
    "U = smp.symbols(r'\\hat{U}')\n",
    "eq1 = smp.Eq(U*E_1, E_2)\n",
    "display(Math(smp.latex(eq1)))\n",
    "eq2 = smp.solve(eq1, U)\n",
    "U = eq2[0].simplify()\n",
    "display(Math(r'\\hat{U} = ' + smp.latex(U)))\n",
    "\n",
    "eq3 = smp.Eq(U, smp.exp(smp.I*d))\n",
    "display(Math(smp.latex(eq3)))\n",
    "eq4 = smp.solve(eq3, d)\n",
    "delta = eq4[0]\n",
    "display(Math(r'\\delta = ' + smp.latex(delta)))\n",
    "\n",
    "#postselection sur D = 1/sqrt(2)*(H_faible + V)\n",
    "E_t = ((1/smp.sqrt(2))*(E_1 + E_2))\n",
    "#mesure faible sur H\n",
    "display(Math(r'|E_{t}(z,t)> = '+smp.latex(E_t)))"
   ]
  },
  {
   "cell_type": "code",
   "execution_count": 19,
   "metadata": {},
   "outputs": [
    {
     "data": {
      "text/latex": [
       "$\\displaystyle I(z,t) =\\frac{\\sqrt{2} \\cdot \\left(1 + e^{- \\frac{\\tau^{2}}{2 \\sigma^{2}}} e^{- \\frac{\\tau t}{\\sigma^{2}}} + 2 e^{- \\frac{\\tau^{2}}{4 \\sigma^{2}}} e^{- \\frac{\\tau t}{2 \\sigma^{2}}} \\cos{\\left(\\omega \\tau \\right)}\\right) e^{- \\frac{t^{2}}{2 \\sigma^{2}}}}{4 \\sqrt{\\pi} \\sigma}$"
      ],
      "text/plain": [
       "<IPython.core.display.Math object>"
      ]
     },
     "metadata": {},
     "output_type": "display_data"
    },
    {
     "data": {
      "text/latex": [
       "$\\displaystyle I_{ref}(z,t) =\\frac{\\sqrt{2} e^{- \\frac{t^{2}}{2 \\sigma^{2}}}}{4 \\sqrt{\\pi} \\sigma}$"
      ],
      "text/plain": [
       "<IPython.core.display.Math object>"
      ]
     },
     "metadata": {},
     "output_type": "display_data"
    }
   ],
   "source": [
    "I = smp.re(smp.conjugate(E_t)*E_t)\n",
    "display(Math('I(z,t) =' +smp.latex((I.simplify().factor()))))\n",
    "\n",
    "I_ref = smp.re(smp.conjugate(E_1*(1/smp.sqrt(2)))*(E_1*(1/smp.sqrt(2))))\n",
    "display(Math(r'I_{ref}(z,t) =' +smp.latex((I_ref.simplify()))))"
   ]
  },
  {
   "cell_type": "code",
   "execution_count": 40,
   "metadata": {},
   "outputs": [
    {
     "data": {
      "text/latex": [
       "$\\displaystyle \\frac{d}{dt}I(z,t) =- \\frac{\\sqrt{2} \\left(t e^{\\frac{t^{2}}{4 \\sigma^{2}}} + \\left(\\tau + t\\right) e^{- \\frac{2 \\tau^{2} + 4 \\tau t - t^{2}}{4 \\sigma^{2}}} + \\left(\\tau + 2 t\\right) e^{- \\frac{\\tau^{2} + 2 \\tau t - t^{2}}{4 \\sigma^{2}}} \\cos{\\left(\\omega \\tau \\right)}\\right) e^{- \\frac{3 t^{2}}{4 \\sigma^{2}}}}{4 \\sqrt{\\pi} \\sigma^{3}}$"
      ],
      "text/plain": [
       "<IPython.core.display.Math object>"
      ]
     },
     "metadata": {},
     "output_type": "display_data"
    },
    {
     "data": {
      "text/latex": [
       "$\\displaystyle \\frac{d}{dt}I(z,t=0) =- \\frac{\\sqrt{2} \\tau \\left(e^{\\frac{\\tau^{2}}{4 \\sigma^{2}}} + e^{\\frac{\\tau^{2}}{2 \\sigma^{2}}} \\cos{\\left(\\omega \\tau \\right)}\\right) e^{- \\frac{3 \\tau^{2}}{4 \\sigma^{2}}}}{4 \\sqrt{\\pi} \\sigma^{3}}$"
      ],
      "text/plain": [
       "<IPython.core.display.Math object>"
      ]
     },
     "metadata": {},
     "output_type": "display_data"
    },
    {
     "data": {
      "text/latex": [
       "$\\displaystyle \\frac{d}{dt}I_{ref}(z,t) =- \\frac{\\sqrt{2} t e^{- \\frac{t^{2}}{2 \\sigma^{2}}}}{4 \\sqrt{\\pi} \\sigma^{3}}$"
      ],
      "text/plain": [
       "<IPython.core.display.Math object>"
      ]
     },
     "metadata": {},
     "output_type": "display_data"
    },
    {
     "data": {
      "text/latex": [
       "$\\displaystyle - \\frac{\\sqrt{2} t e^{- \\frac{t^{2}}{2 \\sigma^{2}}}}{4 \\sqrt{\\pi} \\sigma^{3}} = 0$"
      ],
      "text/plain": [
       "<IPython.core.display.Math object>"
      ]
     },
     "metadata": {},
     "output_type": "display_data"
    },
    {
     "data": {
      "text/latex": [
       "$\\displaystyle \\left[ 0\\right]$"
      ],
      "text/plain": [
       "<IPython.core.display.Math object>"
      ]
     },
     "metadata": {},
     "output_type": "display_data"
    },
    {
     "ename": "NotImplementedError",
     "evalue": "multiple generators [cos(\\omega*\\tau), exp(\\tau**2/(2*\\sigma**2)), exp(\\tau**2/(4*\\sigma**2))]\nNo algorithms are implemented to solve equation exp(\\tau**2/(4*\\sigma**2)) + exp(\\tau**2/(2*\\sigma**2))*cos(\\omega*\\tau)",
     "output_type": "error",
     "traceback": [
      "\u001b[0;31m---------------------------------------------------------------------------\u001b[0m",
      "\u001b[0;31mNotImplementedError\u001b[0m                       Traceback (most recent call last)",
      "Cell \u001b[0;32mIn[40], line 14\u001b[0m\n\u001b[1;32m     11\u001b[0m display(Math(smp\u001b[39m.\u001b[39mlatex(eq6)))\n\u001b[1;32m     13\u001b[0m eq7 \u001b[39m=\u001b[39m smp\u001b[39m.\u001b[39mEq(dI\u001b[39m.\u001b[39msubs(t, \u001b[39m0\u001b[39m)\u001b[39m.\u001b[39msimplify(), \u001b[39m0\u001b[39m)\n\u001b[0;32m---> 14\u001b[0m eq8 \u001b[39m=\u001b[39m smp\u001b[39m.\u001b[39;49msolve(eq7, tau)\n\u001b[1;32m     15\u001b[0m display(Math(smp\u001b[39m.\u001b[39mlatex(eq8)))\n",
      "File \u001b[0;32m~/.local/lib/python3.11/site-packages/sympy/solvers/solvers.py:1112\u001b[0m, in \u001b[0;36msolve\u001b[0;34m(f, *symbols, **flags)\u001b[0m\n\u001b[1;32m   1108\u001b[0m \u001b[39m#\u001b[39;00m\n\u001b[1;32m   1109\u001b[0m \u001b[39m# try to get a solution\u001b[39;00m\n\u001b[1;32m   1110\u001b[0m \u001b[39m###########################################################################\u001b[39;00m\n\u001b[1;32m   1111\u001b[0m \u001b[39mif\u001b[39;00m bare_f:\n\u001b[0;32m-> 1112\u001b[0m     solution \u001b[39m=\u001b[39m _solve(f[\u001b[39m0\u001b[39;49m], \u001b[39m*\u001b[39;49msymbols, \u001b[39m*\u001b[39;49m\u001b[39m*\u001b[39;49mflags)\n\u001b[1;32m   1113\u001b[0m \u001b[39melse\u001b[39;00m:\n\u001b[1;32m   1114\u001b[0m     solution \u001b[39m=\u001b[39m _solve_system(f, symbols, \u001b[39m*\u001b[39m\u001b[39m*\u001b[39mflags)\n",
      "File \u001b[0;32m~/.local/lib/python3.11/site-packages/sympy/solvers/solvers.py:1418\u001b[0m, in \u001b[0;36m_solve\u001b[0;34m(f, *symbols, **flags)\u001b[0m\n\u001b[1;32m   1416\u001b[0m         result \u001b[39m=\u001b[39m \u001b[39mset\u001b[39m()\n\u001b[1;32m   1417\u001b[0m         \u001b[39mbreak\u001b[39;00m\n\u001b[0;32m-> 1418\u001b[0m     soln \u001b[39m=\u001b[39m _solve(m, symbol, \u001b[39m*\u001b[39;49m\u001b[39m*\u001b[39;49mflags)\n\u001b[1;32m   1419\u001b[0m     result\u001b[39m.\u001b[39mupdate(\u001b[39mset\u001b[39m(soln))\n\u001b[1;32m   1420\u001b[0m result \u001b[39m=\u001b[39m \u001b[39mlist\u001b[39m(result)\n",
      "File \u001b[0;32m~/.local/lib/python3.11/site-packages/sympy/solvers/solvers.py:1744\u001b[0m, in \u001b[0;36m_solve\u001b[0;34m(f, *symbols, **flags)\u001b[0m\n\u001b[1;32m   1741\u001b[0m \u001b[39m# ----------- end of fallback ----------------------------\u001b[39;00m\n\u001b[1;32m   1743\u001b[0m \u001b[39mif\u001b[39;00m result \u001b[39mis\u001b[39;00m \u001b[39mFalse\u001b[39;00m:\n\u001b[0;32m-> 1744\u001b[0m     \u001b[39mraise\u001b[39;00m \u001b[39mNotImplementedError\u001b[39;00m(\u001b[39m'\u001b[39m\u001b[39m\\n\u001b[39;00m\u001b[39m'\u001b[39m\u001b[39m.\u001b[39mjoin([msg, not_impl_msg \u001b[39m%\u001b[39m f]))\n\u001b[1;32m   1746\u001b[0m \u001b[39mif\u001b[39;00m flags\u001b[39m.\u001b[39mget(\u001b[39m'\u001b[39m\u001b[39msimplify\u001b[39m\u001b[39m'\u001b[39m, \u001b[39mTrue\u001b[39;00m):\n\u001b[1;32m   1747\u001b[0m     result \u001b[39m=\u001b[39m \u001b[39mlist\u001b[39m(\u001b[39mmap\u001b[39m(simplify, result))\n",
      "\u001b[0;31mNotImplementedError\u001b[0m: multiple generators [cos(\\omega*\\tau), exp(\\tau**2/(2*\\sigma**2)), exp(\\tau**2/(4*\\sigma**2))]\nNo algorithms are implemented to solve equation exp(\\tau**2/(4*\\sigma**2)) + exp(\\tau**2/(2*\\sigma**2))*cos(\\omega*\\tau)"
     ]
    }
   ],
   "source": [
    "dI_ref = smp.re(smp.diff(I_ref, t)).simplify()\n",
    "dI = smp.re(smp.diff(I, t)).simplify()\n",
    "\n",
    "display(Math(r'\\frac{d}{dt}I(z,t) ='+smp.latex(dI)))\n",
    "display(Math(r'\\frac{d}{dt}I(z,t=0) ='+smp.latex(dI.subs(t, 0).simplify())))\n",
    "display(Math(r'\\frac{d}{dt}I_{ref}(z,t) ='+smp.latex(dI_ref)))\n",
    "\n",
    "eq5 = smp.Eq(dI_ref, 0)\n",
    "display(Math(smp.latex(eq5)))\n",
    "eq6 = smp.solve(eq5, t)\n",
    "display(Math(smp.latex(eq6)))\n",
    "\n",
    "eq7 = smp.Eq(dI.subs(t, 0).simplify(), 0)\n",
    "eq8 = smp.solve(eq7, tau)\n",
    "display(Math(smp.latex(eq8)))"
   ]
  },
  {
   "cell_type": "code",
   "execution_count": 21,
   "metadata": {},
   "outputs": [
    {
     "data": {
      "text/latex": [
       "$\\displaystyle G(\\tau) = e^{- \\tau \\left(i \\omega + \\frac{\\tau}{8 \\sigma^{2}}\\right)}$"
      ],
      "text/plain": [
       "<IPython.core.display.Math object>"
      ]
     },
     "metadata": {},
     "output_type": "display_data"
    },
    {
     "data": {
      "text/latex": [
       "$\\displaystyle G(0) = 1$"
      ],
      "text/plain": [
       "<IPython.core.display.Math object>"
      ]
     },
     "metadata": {},
     "output_type": "display_data"
    },
    {
     "data": {
      "text/latex": [
       "$\\displaystyle g^{(1)}(\\tau) = e^{- \\tau \\left(i \\omega + \\frac{\\tau}{8 \\sigma^{2}}\\right)}$"
      ],
      "text/plain": [
       "<IPython.core.display.Math object>"
      ]
     },
     "metadata": {},
     "output_type": "display_data"
    }
   ],
   "source": [
    "G_1_TAU = (smp.integrate(smp.conjugate(E_1)*E_2, (t, -smp.oo, smp.oo))).simplify()\n",
    "display(Math(r'G(\\tau) = ' + smp.latex(G_1_TAU)))\n",
    "\n",
    "G_1_ZERO = smp.integrate(smp.conjugate(E_1)*E_1, (t, -smp.oo, smp.oo))\n",
    "display(Math(r'G(0) = ' + smp.latex(G_1_ZERO.simplify())))\n",
    "\n",
    "g_1 = (G_1_TAU/G_1_ZERO).simplify()\n",
    "display(Math(r'g^{(1)}(\\tau) = ' + smp.latex(g_1)))"
   ]
  },
  {
   "cell_type": "code",
   "execution_count": 22,
   "metadata": {},
   "outputs": [
    {
     "data": {
      "text/latex": [
       "$\\displaystyle I_g =\\frac{\\sqrt{2} \\cdot \\left(2 e^{\\frac{\\tau^{2}}{8 \\sigma^{2}}} e^{\\frac{\\tau t}{2 \\sigma^{2}}} \\cos{\\left(\\omega \\tau \\right)} + e^{\\frac{\\tau^{2}}{2 \\sigma^{2}}} e^{\\frac{\\tau t}{\\sigma^{2}}} + 1\\right) e^{- \\frac{\\tau^{2}}{2 \\sigma^{2}}} e^{- \\frac{t^{2}}{2 \\sigma^{2}}} e^{- \\frac{\\tau t}{\\sigma^{2}}}}{2 \\sqrt{\\pi} \\sigma}$"
      ],
      "text/plain": [
       "<IPython.core.display.Math object>"
      ]
     },
     "metadata": {},
     "output_type": "display_data"
    }
   ],
   "source": [
    "I_g = smp.conjugate(E_1)*E_1 + smp.conjugate(E_2)*E_2 + 2*smp.sqrt(smp.conjugate(E_1)*E_1*smp.conjugate(E_2)*E_2)*smp.re(g_1)\n",
    "display(Math(r'I_g ='+smp.latex((I_g.simplify().factor()))))"
   ]
  },
  {
   "cell_type": "code",
   "execution_count": 23,
   "metadata": {},
   "outputs": [
    {
     "data": {
      "text/latex": [
       "$\\displaystyle \\tau_c = 2 \\sqrt{\\pi} \\sigma$"
      ],
      "text/plain": [
       "<IPython.core.display.Math object>"
      ]
     },
     "metadata": {},
     "output_type": "display_data"
    }
   ],
   "source": [
    "tau_c = smp.integrate(smp.conjugate(g_1)*g_1, (tau, -smp.oo, smp.oo))\n",
    "display(Math(r'\\tau_c = '+smp.latex(tau_c)))"
   ]
  },
  {
   "cell_type": "code",
   "execution_count": 24,
   "metadata": {},
   "outputs": [
    {
     "data": {
      "text/latex": [
       "$\\displaystyle V=\\frac{2 e^{\\tau \\left(- i \\omega + \\frac{\\tau}{8 \\sigma^{2}} + \\frac{t}{2 \\sigma^{2}}\\right)}}{e^{\\frac{\\tau^{2}}{2 \\sigma^{2}} + \\frac{\\tau t}{\\sigma^{2}}} + 1}$"
      ],
      "text/plain": [
       "<IPython.core.display.Math object>"
      ]
     },
     "metadata": {},
     "output_type": "display_data"
    }
   ],
   "source": [
    "I_1 = (smp.conjugate(E_1)*E_1)\n",
    "I_2 = (smp.conjugate(E_2)*E_2)\n",
    "\n",
    "V = ((2*smp.sqrt(I_1)*smp.sqrt(I_2))/(I_1+I_2))*(g_1)\n",
    "display(Math(r'V='+smp.latex(V.simplify().doit())))"
   ]
  },
  {
   "cell_type": "code",
   "execution_count": 25,
   "metadata": {},
   "outputs": [
    {
     "data": {
      "text/latex": [
       "$\\displaystyle S(f) = 2 \\sqrt{2} \\sqrt{\\pi} \\sigma e^{- 32 \\pi^{2} \\sigma^{2} f^{2}}$"
      ],
      "text/plain": [
       "<IPython.core.display.Math object>"
      ]
     },
     "metadata": {},
     "output_type": "display_data"
    }
   ],
   "source": [
    "f = smp.symbols('f', real=True, constante=True, positive=True)\n",
    "G_1_TAU=G_1_TAU.subs(w, 2*smp.pi*f)\n",
    "#using the autocorrelation function\n",
    "S = (smp.integrate(G_1_TAU*smp.exp(-smp.I*2*smp.pi*f*tau), (tau, -smp.oo, smp.oo)))*(1)\n",
    "display(Math(r'S(f) = ' + smp.latex(S.simplify())))"
   ]
  },
  {
   "cell_type": "code",
   "execution_count": 26,
   "metadata": {},
   "outputs": [
    {
     "data": {
      "text/latex": [
       "$\\displaystyle \\Delta f = \\frac{1}{8 \\sqrt{\\pi} \\sigma}$"
      ],
      "text/plain": [
       "<IPython.core.display.Math object>"
      ]
     },
     "metadata": {},
     "output_type": "display_data"
    }
   ],
   "source": [
    "df_up = (smp.integrate(S, (f, 0, smp.oo))**2).simplify()\n",
    "df_down = (smp.integrate(S**2, (f, 0, smp.oo))).simplify()\n",
    "\n",
    "df = (df_up/df_down)\n",
    "display(Math(r'\\Delta f = '+smp.latex(df.simplify())))"
   ]
  },
  {
   "cell_type": "code",
   "execution_count": 27,
   "metadata": {},
   "outputs": [
    {
     "data": {
      "text/latex": [
       "$\\displaystyle S(f) =2^{\\frac{3}{4}} \\sqrt[4]{\\pi} \\sqrt{\\sigma} e^{- 16 \\pi^{2} \\sigma^{2} f^{2}}$"
      ],
      "text/plain": [
       "<IPython.core.display.Math object>"
      ]
     },
     "metadata": {},
     "output_type": "display_data"
    }
   ],
   "source": [
    "S_w = smp.integrate(E_1.subs(w, 2*smp.pi*f).subs(z, 0)*smp.exp(-smp.I*2*smp.pi*f*t), (t, -smp.oo, smp.oo))\n",
    "display(Math(r'S(f) ='+smp.latex(S_w.simplify())))"
   ]
  },
  {
   "attachments": {},
   "cell_type": "markdown",
   "metadata": {},
   "source": [
    "Mesure faible temporel"
   ]
  },
  {
   "cell_type": "code",
   "execution_count": 28,
   "metadata": {},
   "outputs": [
    {
     "data": {
      "text/latex": [
       "$\\displaystyle |\\varphi(\\theta, \\phi)> = \\alpha |H> + b |V>$"
      ],
      "text/plain": [
       "<IPython.core.display.Math object>"
      ]
     },
     "metadata": {},
     "output_type": "display_data"
    },
    {
     "data": {
      "text/latex": [
       "$\\displaystyle |\\Psi_i> = |\\varphi(\\theta, \\phi)> \\otimes |\\xi(z,t)>$"
      ],
      "text/plain": [
       "<IPython.core.display.Math object>"
      ]
     },
     "metadata": {},
     "output_type": "display_data"
    }
   ],
   "source": [
    "#intiallement\n",
    "phi = a + b\n",
    "H = smp.symbols('|H>')\n",
    "V = smp.symbols('|V>')\n",
    "display(Math(r'|\\varphi(\\theta, \\phi)> = ' +smp.latex(a*H + b*V)))\n",
    "display(Math(r'|\\Psi_i> = |\\varphi(\\theta, \\phi)> \\otimes |\\xi(z,t)>'))"
   ]
  },
  {
   "cell_type": "code",
   "execution_count": 29,
   "metadata": {},
   "outputs": [
    {
     "data": {
      "text/latex": [
       "$\\displaystyle |\\xi_1(z,t)> = \\frac{2^{\\frac{3}{4}} e^{- \\frac{t^{2}}{4 \\sigma^{2}}} e^{- i \\omega t}}{2 \\sqrt[4]{\\pi} \\sqrt{\\sigma}}$"
      ],
      "text/plain": [
       "<IPython.core.display.Math object>"
      ]
     },
     "metadata": {},
     "output_type": "display_data"
    },
    {
     "data": {
      "text/latex": [
       "$\\displaystyle |\\xi_2(z,t+\\tau)> = \\frac{2^{\\frac{3}{4}} e^{- \\frac{\\left(\\tau + t\\right)^{2}}{4 \\sigma^{2}}} e^{- i \\omega \\left(\\tau + t\\right)}}{2 \\sqrt[4]{\\pi} \\sqrt{\\sigma}}$"
      ],
      "text/plain": [
       "<IPython.core.display.Math object>"
      ]
     },
     "metadata": {},
     "output_type": "display_data"
    },
    {
     "data": {
      "text/latex": [
       "$\\displaystyle |\\Psi_i> = |\\varphi(\\theta, \\phi)> \\otimes |\\xi(z,t)>$"
      ],
      "text/plain": [
       "<IPython.core.display.Math object>"
      ]
     },
     "metadata": {},
     "output_type": "display_data"
    },
    {
     "data": {
      "text/latex": [
       "$\\displaystyle |\\Psi_i> = \\frac{2^{\\frac{3}{4}} \\alpha e^{- \\frac{t^{2}}{4 \\sigma^{2}}} e^{- i \\omega t}}{2 \\sqrt[4]{\\pi} \\sqrt{\\sigma}} + \\frac{2^{\\frac{3}{4}} b e^{- \\frac{\\left(\\tau + t\\right)^{2}}{4 \\sigma^{2}}} e^{i \\omega \\tau} e^{- i \\omega \\left(\\tau + t\\right)}}{2 \\sqrt[4]{\\pi} \\sqrt{\\sigma}}$"
      ],
      "text/plain": [
       "<IPython.core.display.Math object>"
      ]
     },
     "metadata": {},
     "output_type": "display_data"
    },
    {
     "data": {
      "text/latex": [
       "$\\displaystyle |\\Psi_f> = <J|U|\\Psi_i> = \\frac{2^{\\frac{3}{4}} \\alpha e^{- \\frac{t^{2}}{4 \\sigma^{2}}} e^{- i \\omega t} \\overline{\\mu}}{2 \\sqrt[4]{\\pi} \\sqrt{\\sigma}} + \\frac{2^{\\frac{3}{4}} b e^{- \\frac{\\left(\\tau + t\\right)^{2}}{4 \\sigma^{2}}} e^{i \\omega \\tau} e^{- i \\omega \\left(\\tau + t\\right)} \\overline{\\nu}}{2 \\sqrt[4]{\\pi} \\sqrt{\\sigma}}$"
      ],
      "text/plain": [
       "<IPython.core.display.Math object>"
      ]
     },
     "metadata": {},
     "output_type": "display_data"
    },
    {
     "data": {
      "text/latex": [
       "$\\displaystyle <T> =\\frac{\\tau \\left(- \\alpha \\nu \\overline{\\mu} \\overline{b} - \\mu b \\overline{\\alpha} \\overline{\\nu} - 2 \\nu b e^{\\frac{\\tau^{2}}{8 \\sigma^{2}}} \\overline{\\nu} \\overline{b}\\right) e^{- \\frac{\\tau^{2}}{8 \\sigma^{2}}}}{2}$"
      ],
      "text/plain": [
       "<IPython.core.display.Math object>"
      ]
     },
     "metadata": {},
     "output_type": "display_data"
    }
   ],
   "source": [
    "xi_i = (smp.sqrt(1/((smp.sqrt(2*smp.pi))*o)))*smp.exp(-((t)**2)/(4*o**2))\n",
    "xi_1 = xi_i*smp.exp(-smp.I*w*t)\n",
    "display(Math(r'|\\xi_1(z,t)> = '+smp.latex(xi_1)))\n",
    "\n",
    "xi_2 = (smp.sqrt(1/((smp.sqrt(2*smp.pi))*o)))*smp.exp(-(((t+tau))**2)/(4*o**2))*smp.exp(-smp.I*w*(t+tau))\n",
    "display(Math(r'|\\xi_2(z,t+\\tau)> = '+smp.latex(xi_2)))\n",
    "display(Math(r'|\\Psi_i> = |\\varphi(\\theta, \\phi)> \\otimes |\\xi(z,t)>'))\n",
    "psi_i = (a*xi_1+b*smp.exp(smp.I*tau*w)*xi_2)\n",
    "display(Math(r'|\\Psi_i> = '+smp.latex(psi_i)))\n",
    "\n",
    "psi_f = (smp.conjugate(u)*a*xi_1+smp.conjugate(v)*b*smp.exp(smp.I*tau*w)*xi_2)\n",
    "display(Math(r'|\\Psi_f> = <J|U|\\Psi_i> = '+smp.latex(psi_f)))\n",
    "\n",
    "T = (smp.integrate(smp.conjugate(psi_f)*t*psi_f, (t, -smp.oo, smp.oo))).simplify()\n",
    "display(Math(r'<T> ='+smp.latex(T)))\n"
   ]
  },
  {
   "cell_type": "code",
   "execution_count": 30,
   "metadata": {},
   "outputs": [
    {
     "data": {
      "text/latex": [
       "$\\displaystyle |F(\\omega)> = 2^{\\frac{3}{4}} \\sqrt[4]{\\pi} \\sqrt{\\sigma} \\left(\\alpha \\overline{\\mu} + b e^{2 i \\omega \\tau} \\overline{\\nu}\\right) e^{- 4 \\omega^{2} \\sigma^{2}}$"
      ],
      "text/plain": [
       "<IPython.core.display.Math object>"
      ]
     },
     "metadata": {},
     "output_type": "display_data"
    }
   ],
   "source": [
    "F = (smp.integrate(psi_f*smp.exp(-smp.I*w*t), (t, -smp.oo, smp.oo))).simplify()\n",
    "display(Math(r'|F(\\omega)> = ' + smp.latex(F)))"
   ]
  },
  {
   "cell_type": "code",
   "execution_count": 31,
   "metadata": {},
   "outputs": [
    {
     "data": {
      "text/latex": [
       "$\\displaystyle <\\Omega> = \\frac{i \\pi \\tau \\left(- \\alpha \\nu \\overline{\\mu} \\overline{b} + \\mu b \\overline{\\alpha} \\overline{\\nu}\\right) e^{- \\frac{\\tau^{2}}{8 \\sigma^{2}}}}{8 \\sigma^{2}}$"
      ],
      "text/plain": [
       "<IPython.core.display.Math object>"
      ]
     },
     "metadata": {},
     "output_type": "display_data"
    }
   ],
   "source": [
    "W = smp.integrate(smp.conjugate(F)*w*F, (w, -smp.oo, smp.oo))\n",
    "display(Math(r'<\\Omega> = ' + smp.latex(W.simplify())))"
   ]
  },
  {
   "cell_type": "code",
   "execution_count": null,
   "metadata": {},
   "outputs": [],
   "source": []
  }
 ],
 "metadata": {
  "kernelspec": {
   "display_name": "Python 3",
   "language": "python",
   "name": "python3"
  },
  "language_info": {
   "codemirror_mode": {
    "name": "ipython",
    "version": 3
   },
   "file_extension": ".py",
   "mimetype": "text/x-python",
   "name": "python",
   "nbconvert_exporter": "python",
   "pygments_lexer": "ipython3",
   "version": "3.11.4"
  },
  "orig_nbformat": 4
 },
 "nbformat": 4,
 "nbformat_minor": 2
}
