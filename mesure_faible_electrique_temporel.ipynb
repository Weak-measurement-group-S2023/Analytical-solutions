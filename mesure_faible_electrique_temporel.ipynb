{
 "cells": [
  {
   "attachments": {},
   "cell_type": "markdown",
   "metadata": {},
   "source": [
    "Calcul analytique de la partie réel et imaginaire de la valeur faible d'un systèm d'optique quantique.\n",
    "\n",
    "\n",
    "Le système contient un laser pulsé avec un profil gaussien temporel qui est préparé avec une lame demi onde et quart d'onde. L'impulsion subit une mesure faible sur sa partie horizontale de l'état de polarisation presenté par un décalage temporel. Ensuite,  l'impulsion est projecter avec l'état de polairsation diagonale."
   ]
  },
  {
   "cell_type": "code",
   "execution_count": 1,
   "metadata": {},
   "outputs": [
    {
     "name": "stdout",
     "output_type": "stream",
     "text": [
      "IPython console for SymPy 1.11.1 (Python 3.11.3-64-bit) (ground types: python)\n",
      "\n",
      "These commands were executed:\n",
      ">>> from sympy import *\n",
      ">>> x, y, z, t = symbols('x y z t')\n",
      ">>> k, m, n = symbols('k m n', integer=True)\n",
      ">>> f, g, h = symbols('f g h', cls=Function)\n",
      ">>> init_printing()\n",
      "\n",
      "Documentation can be found at https://docs.sympy.org/1.11.1/\n",
      "\n"
     ]
    }
   ],
   "source": [
    "#sympy pour effectuer les calcules\n",
    "import sympy as smp\n",
    "from IPython.display import display, Math\n",
    "smp.init_session()"
   ]
  },
  {
   "cell_type": "code",
   "execution_count": 2,
   "metadata": {},
   "outputs": [],
   "source": [
    "a = smp.symbols('a', real=False, complex = True)\n",
    "t = smp.symbols('t', real=True)\n",
    "o = smp.symbols(r'\\sigma', real=True, positive = True)\n",
    "b = smp.symbols('b', real=False, complex = True)\n",
    "d = smp.symbols(r'\\delta', real=True)\n",
    "z = smp.symbols('z', real=True)\n",
    "k = smp.symbols('k', real=True, positive=True)\n",
    "w = smp.symbols(r'\\omega', real=True, positive=True)\n",
    "tau = smp.symbols(r'\\tau', real=True)\n",
    "c = smp.symbols('c', real=True, positive=True, constant=True)"
   ]
  },
  {
   "attachments": {},
   "cell_type": "markdown",
   "metadata": {},
   "source": [
    "Onde monochromatique"
   ]
  },
  {
   "cell_type": "code",
   "execution_count": 3,
   "metadata": {},
   "outputs": [
    {
     "data": {
      "text/latex": [
       "$\\displaystyle E_t = \\frac{\\sqrt{2} \\left(E_{0} e^{i \\left(- \\omega t + k z\\right)} + E_{0} e^{i \\left(- \\omega t + k \\left(\\Delta + z\\right)\\right)}\\right)}{2}$"
      ],
      "text/plain": [
       "<IPython.core.display.Math object>"
      ]
     },
     "metadata": {},
     "output_type": "display_data"
    }
   ],
   "source": [
    "E_0 = smp.symbols(r'E_0', real=True)\n",
    "delta_D = smp.symbols(r'\\Delta', real=True, positive=True)\n",
    "E_1 = E_0*smp.exp(smp.I*(k*z - w*t))\n",
    "E_2 = E_0*smp.exp(smp.I*(k*(z+delta_D) - w*t))\n",
    "\n",
    "E_t = (1/smp.sqrt(2))*(E_1+E_2)\n",
    "display(Math(r'E_t = '+smp.latex(E_t)))"
   ]
  },
  {
   "cell_type": "code",
   "execution_count": 4,
   "metadata": {},
   "outputs": [
    {
     "data": {
      "text/latex": [
       "$\\displaystyle I(z+\\Delta,t) =E_{0}^{2} \\left(\\cos{\\left(\\Delta k \\right)} + 1\\right)$"
      ],
      "text/plain": [
       "<IPython.core.display.Math object>"
      ]
     },
     "metadata": {},
     "output_type": "display_data"
    }
   ],
   "source": [
    "I = smp.conjugate(E_t)*E_t\n",
    "display(Math('I(z+\\Delta,t) ='+smp.latex(I.simplify())))"
   ]
  },
  {
   "cell_type": "code",
   "execution_count": 5,
   "metadata": {},
   "outputs": [
    {
     "data": {
      "text/latex": [
       "$\\displaystyle E_t = \\frac{\\sqrt{2} \\left(E_{0} e^{i \\left(- \\omega t + k z\\right)} + E_{0} e^{i \\left(- \\omega \\left(\\tau + t\\right) + k z\\right)}\\right)}{2}$"
      ],
      "text/plain": [
       "<IPython.core.display.Math object>"
      ]
     },
     "metadata": {},
     "output_type": "display_data"
    }
   ],
   "source": [
    "E_0 = smp.symbols(r'E_0', real=True)\n",
    "delta_D = smp.symbols(r'\\Delta', real=True, positive=True)\n",
    "E_1 = E_0*smp.exp(smp.I*(k*z - w*t))\n",
    "E_2 = E_0*smp.exp(smp.I*(k*(z) - w*(t+tau)))\n",
    "\n",
    "E_t = (1/smp.sqrt(2))*(E_1+E_2)\n",
    "display(Math(r'E_t = '+smp.latex(E_t)))"
   ]
  },
  {
   "cell_type": "code",
   "execution_count": 6,
   "metadata": {},
   "outputs": [
    {
     "data": {
      "text/latex": [
       "$\\displaystyle I(z,t+\\tau) =E_{0}^{2} \\left(\\cos{\\left(\\omega \\tau \\right)} + 1\\right)$"
      ],
      "text/plain": [
       "<IPython.core.display.Math object>"
      ]
     },
     "metadata": {},
     "output_type": "display_data"
    }
   ],
   "source": [
    "I = smp.re(smp.conjugate(E_t)*E_t)\n",
    "display(Math(r'I(z,t+\\tau) ='+smp.latex(I.simplify())))"
   ]
  },
  {
   "attachments": {},
   "cell_type": "markdown",
   "metadata": {},
   "source": [
    "Onde Pulsé"
   ]
  },
  {
   "cell_type": "code",
   "execution_count": 7,
   "metadata": {},
   "outputs": [
    {
     "data": {
      "text/latex": [
       "$\\displaystyle A(t) = \\frac{2^{\\frac{3}{4}} e^{- \\frac{t^{2}}{4 \\sigma^{2}}}}{2 \\sqrt[4]{\\pi} \\sqrt{\\sigma}}$"
      ],
      "text/plain": [
       "<IPython.core.display.Math object>"
      ]
     },
     "metadata": {},
     "output_type": "display_data"
    },
    {
     "data": {
      "text/latex": [
       "$\\displaystyle |\\xi_1(z,t)> = \\frac{2^{\\frac{3}{4}} e^{i \\left(- \\omega t + k z\\right)} e^{- \\frac{t^{2}}{4 \\sigma^{2}}}}{2 \\sqrt[4]{\\pi} \\sqrt{\\sigma}}$"
      ],
      "text/plain": [
       "<IPython.core.display.Math object>"
      ]
     },
     "metadata": {},
     "output_type": "display_data"
    },
    {
     "data": {
      "text/latex": [
       "$\\displaystyle A(t) = \\frac{2^{\\frac{3}{4}} e^{- \\frac{\\left(\\tau + t\\right)^{2}}{4 \\sigma^{2}}}}{2 \\sqrt[4]{\\pi} \\sqrt{\\sigma}}$"
      ],
      "text/plain": [
       "<IPython.core.display.Math object>"
      ]
     },
     "metadata": {},
     "output_type": "display_data"
    },
    {
     "data": {
      "text/latex": [
       "$\\displaystyle |\\xi_2(z,t+\\tau)> = \\frac{2^{\\frac{3}{4}} e^{i \\left(- \\omega \\left(\\tau + t\\right) + k z\\right)} e^{- \\frac{\\left(\\tau + t\\right)^{2}}{4 \\sigma^{2}}}}{2 \\sqrt[4]{\\pi} \\sqrt{\\sigma}}$"
      ],
      "text/plain": [
       "<IPython.core.display.Math object>"
      ]
     },
     "metadata": {},
     "output_type": "display_data"
    },
    {
     "data": {
      "text/latex": [
       "$\\displaystyle |\\xi(z,t+\\tau)> = \\frac{\\sqrt{2} \\cdot \\left(\\frac{2^{\\frac{3}{4}} e^{i \\left(- \\omega t + k z\\right)} e^{- \\frac{t^{2}}{4 \\sigma^{2}}}}{2 \\sqrt[4]{\\pi} \\sqrt{\\sigma}} + \\frac{2^{\\frac{3}{4}} e^{i \\left(- \\omega \\left(\\tau + t\\right) + k z\\right)} e^{- \\frac{\\left(\\tau + t\\right)^{2}}{4 \\sigma^{2}}}}{2 \\sqrt[4]{\\pi} \\sqrt{\\sigma}}\\right)}{2}$"
      ],
      "text/plain": [
       "<IPython.core.display.Math object>"
      ]
     },
     "metadata": {},
     "output_type": "display_data"
    }
   ],
   "source": [
    "A = (smp.sqrt(1/((smp.sqrt(2*smp.pi))*o)))*smp.exp(-((t)**2)/(4*o**2))\n",
    "display(Math('A(t) = '+smp.latex(A)))\n",
    "\n",
    "xi_1 = A*smp.exp(smp.I*(k*z - w*t))\n",
    "display(Math(r'|\\xi_1(z,t)> = '+smp.latex(xi_1)))\n",
    "\n",
    "A_f = (smp.sqrt(1/((smp.sqrt(2*smp.pi))*o)))*smp.exp(-((t+tau)**2)/(4*o**2))\n",
    "display(Math('A(t) = '+smp.latex(A_f)))\n",
    "\n",
    "xi_2 = A_f*smp.exp(smp.I*(k*z - w*(t+tau)))\n",
    "display(Math(r'|\\xi_2(z,t+\\tau)> = '+smp.latex(xi_2)))\n",
    "\n",
    "xi_t = (1/smp.sqrt(2))*(xi_1+xi_2)\n",
    "display(Math(r'|\\xi(z,t+\\tau)> = '+smp.latex(xi_t)))"
   ]
  },
  {
   "cell_type": "code",
   "execution_count": 8,
   "metadata": {},
   "outputs": [
    {
     "data": {
      "text/latex": [
       "$\\displaystyle I(z,t+\\tau) =\\frac{\\sqrt{2} \\left(e^{\\frac{t^{2}}{4 \\sigma^{2}}} + e^{\\frac{- 2 \\tau^{2} - 4 \\tau t + t^{2}}{4 \\sigma^{2}}} + 2 e^{\\frac{- \\tau^{2} - 2 \\tau t + t^{2}}{4 \\sigma^{2}}} \\cos{\\left(\\omega \\tau \\right)}\\right) e^{- \\frac{3 t^{2}}{4 \\sigma^{2}}}}{4 \\sqrt{\\pi} \\sigma}$"
      ],
      "text/plain": [
       "<IPython.core.display.Math object>"
      ]
     },
     "metadata": {},
     "output_type": "display_data"
    }
   ],
   "source": [
    "I_t = smp.re(smp.conjugate(xi_t)*xi_t)\n",
    "display(Math(r'I(z,t+\\tau) ='+smp.latex(I_t.simplify())))"
   ]
  },
  {
   "cell_type": "code",
   "execution_count": 9,
   "metadata": {},
   "outputs": [
    {
     "data": {
      "text/latex": [
       "$\\displaystyle A(t) = \\frac{2^{\\frac{3}{4}} e^{- \\frac{\\left(t - \\frac{z}{c}\\right)^{2}}{4 \\sigma^{2}}}}{2 \\sqrt[4]{\\pi} \\sqrt{\\sigma}}$"
      ],
      "text/plain": [
       "<IPython.core.display.Math object>"
      ]
     },
     "metadata": {},
     "output_type": "display_data"
    },
    {
     "data": {
      "text/latex": [
       "$\\displaystyle |\\xi_1(z,t)> = \\frac{2^{\\frac{3}{4}} e^{i \\left(- \\omega t + k z\\right)} e^{- \\frac{\\left(t - \\frac{z}{c}\\right)^{2}}{4 \\sigma^{2}}}}{2 \\sqrt[4]{\\pi} \\sqrt{\\sigma}}$"
      ],
      "text/plain": [
       "<IPython.core.display.Math object>"
      ]
     },
     "metadata": {},
     "output_type": "display_data"
    },
    {
     "data": {
      "text/latex": [
       "$\\displaystyle A(t) = \\frac{2^{\\frac{3}{4}} e^{- \\frac{\\left(t - \\frac{z}{c}\\right)^{2}}{4 \\sigma^{2}}}}{2 \\sqrt[4]{\\pi} \\sqrt{\\sigma}}$"
      ],
      "text/plain": [
       "<IPython.core.display.Math object>"
      ]
     },
     "metadata": {},
     "output_type": "display_data"
    },
    {
     "data": {
      "text/latex": [
       "$\\displaystyle |\\xi_2(z+\\Delta,t)> = \\frac{2^{\\frac{3}{4}} e^{i \\left(- \\omega t + k \\left(\\Delta + z\\right)\\right)} e^{- \\frac{\\left(t - \\frac{z}{c}\\right)^{2}}{4 \\sigma^{2}}}}{2 \\sqrt[4]{\\pi} \\sqrt{\\sigma}}$"
      ],
      "text/plain": [
       "<IPython.core.display.Math object>"
      ]
     },
     "metadata": {},
     "output_type": "display_data"
    },
    {
     "data": {
      "text/latex": [
       "$\\displaystyle |\\xi(z+\\Delta,t)> = \\frac{\\sqrt{2} \\cdot \\left(\\frac{2^{\\frac{3}{4}} e^{i \\left(- \\omega t + k z\\right)} e^{- \\frac{\\left(t - \\frac{z}{c}\\right)^{2}}{4 \\sigma^{2}}}}{2 \\sqrt[4]{\\pi} \\sqrt{\\sigma}} + \\frac{2^{\\frac{3}{4}} e^{i \\left(- \\omega t + k \\left(\\Delta + z\\right)\\right)} e^{- \\frac{\\left(t - \\frac{z}{c}\\right)^{2}}{4 \\sigma^{2}}}}{2 \\sqrt[4]{\\pi} \\sqrt{\\sigma}}\\right)}{2}$"
      ],
      "text/plain": [
       "<IPython.core.display.Math object>"
      ]
     },
     "metadata": {},
     "output_type": "display_data"
    }
   ],
   "source": [
    "A = (smp.sqrt(1/((smp.sqrt(2*smp.pi))*o)))*smp.exp(-((t-z/c)**2)/(4*o**2))\n",
    "display(Math('A(t) = '+smp.latex(A)))\n",
    "\n",
    "xi_1 = A*smp.exp(smp.I*(k*(z) - w*t))\n",
    "display(Math(r'|\\xi_1(z,t)> = '+smp.latex(xi_1)))\n",
    "\n",
    "A_f = (smp.sqrt(1/((smp.sqrt(2*smp.pi))*o)))*smp.exp(-((t -(z)/c)**2)/(4*o**2))\n",
    "display(Math('A(t) = '+smp.latex(A)))\n",
    "\n",
    "xi_2 = A_f*smp.exp(smp.I*(k*(z+delta_D) - w*(t)))\n",
    "display(Math(r'|\\xi_2(z+\\Delta,t)> = '+smp.latex(xi_2)))\n",
    "\n",
    "xi_d = (1/smp.sqrt(2))*(xi_1+xi_2)\n",
    "display(Math(r'|\\xi(z+\\Delta,t)> = '+smp.latex(xi_d)))"
   ]
  },
  {
   "cell_type": "code",
   "execution_count": 10,
   "metadata": {},
   "outputs": [
    {
     "data": {
      "text/latex": [
       "$\\displaystyle I(z+\\Delta,t) =\\frac{\\sqrt{2} \\left(\\cos{\\left(\\Delta k \\right)} + 1\\right) e^{\\frac{- c^{2} t^{2} + 2 c t z - z^{2}}{2 \\sigma^{2} c^{2}}}}{2 \\sqrt{\\pi} \\sigma}$"
      ],
      "text/plain": [
       "<IPython.core.display.Math object>"
      ]
     },
     "metadata": {},
     "output_type": "display_data"
    }
   ],
   "source": [
    "I_d = smp.re(smp.conjugate(xi_d)*xi_d)\n",
    "display(Math(r'I(z+\\Delta,t) ='+smp.latex(I_d.simplify())))"
   ]
  },
  {
   "cell_type": "code",
   "execution_count": 11,
   "metadata": {},
   "outputs": [
    {
     "data": {
      "text/latex": [
       "$\\displaystyle |\\varphi(\\theta, \\phi)> = a |H> + b |V>$"
      ],
      "text/plain": [
       "<IPython.core.display.Math object>"
      ]
     },
     "metadata": {},
     "output_type": "display_data"
    },
    {
     "data": {
      "text/latex": [
       "$\\displaystyle |E(z,t)> = |\\varphi(\\theta, \\phi)> \\otimes |\\xi(z,t)>$"
      ],
      "text/plain": [
       "<IPython.core.display.Math object>"
      ]
     },
     "metadata": {},
     "output_type": "display_data"
    }
   ],
   "source": [
    "\n",
    "#intiallement\n",
    "phi = a + b\n",
    "H = smp.symbols('|H>')\n",
    "V = smp.symbols('|V>')\n",
    "display(Math(r'|\\varphi(\\theta, \\phi)> = ' +smp.latex(a*H + b*V)))\n",
    "display(Math(r'|E(z,t)> = |\\varphi(\\theta, \\phi)> \\otimes |\\xi(z,t)>'))"
   ]
  },
  {
   "attachments": {},
   "cell_type": "markdown",
   "metadata": {},
   "source": [
    "Ici nous effectuons notre procédure de caractérsation faible et pusique trouver l'expression du opérateur d'intéraction"
   ]
  },
  {
   "cell_type": "code",
   "execution_count": 12,
   "metadata": {},
   "outputs": [
    {
     "data": {
      "text/latex": [
       "$\\displaystyle |E_{i}(z,t)> = \\left(a + b\\right) \\left(\\frac{2^{\\frac{3}{4}} e^{i \\left(- \\omega t + k z\\right)} e^{- \\frac{\\left(t - \\frac{z}{c}\\right)^{2}}{4 \\sigma^{2}}}}{2 \\sqrt[4]{\\pi} \\sqrt{\\sigma}} + \\frac{2^{\\frac{3}{4}} e^{i \\left(- \\omega t + k \\left(\\Delta + z\\right)\\right)} e^{- \\frac{\\left(t - \\frac{z}{c}\\right)^{2}}{4 \\sigma^{2}}}}{2 \\sqrt[4]{\\pi} \\sqrt{\\sigma}}\\right)$"
      ],
      "text/plain": [
       "<IPython.core.display.Math object>"
      ]
     },
     "metadata": {},
     "output_type": "display_data"
    },
    {
     "data": {
      "text/latex": [
       "$\\displaystyle |E_{1}(z,t)> = \\frac{2^{\\frac{3}{4}} a e^{i \\left(- \\omega t + k z\\right)} e^{- \\frac{\\left(t - \\frac{z}{c}\\right)^{2}}{4 \\sigma^{2}}}}{2 \\sqrt[4]{\\pi} \\sqrt{\\sigma}}$"
      ],
      "text/plain": [
       "<IPython.core.display.Math object>"
      ]
     },
     "metadata": {},
     "output_type": "display_data"
    },
    {
     "data": {
      "text/latex": [
       "$\\displaystyle |E_{2}(z+\\Delta,t)> = \\frac{2^{\\frac{3}{4}} b e^{i \\left(- \\omega t + k \\left(\\Delta + z\\right)\\right)} e^{- \\frac{\\left(t - \\frac{z}{c}\\right)^{2}}{4 \\sigma^{2}}}}{2 \\sqrt[4]{\\pi} \\sqrt{\\sigma}}$"
      ],
      "text/plain": [
       "<IPython.core.display.Math object>"
      ]
     },
     "metadata": {},
     "output_type": "display_data"
    },
    {
     "data": {
      "text/latex": [
       "$\\displaystyle \\frac{2^{\\frac{3}{4}} \\hat{U} a e^{i \\left(- \\omega t + k z\\right)} e^{- \\frac{\\left(t - \\frac{z}{c}\\right)^{2}}{4 \\sigma^{2}}}}{2 \\sqrt[4]{\\pi} \\sqrt{\\sigma}} = \\frac{2^{\\frac{3}{4}} a e^{i \\left(- \\omega t + k \\left(\\Delta + z\\right)\\right)} e^{- \\frac{\\left(t - \\frac{z}{c}\\right)^{2}}{4 \\sigma^{2}}}}{2 \\sqrt[4]{\\pi} \\sqrt{\\sigma}}$"
      ],
      "text/plain": [
       "<IPython.core.display.Math object>"
      ]
     },
     "metadata": {},
     "output_type": "display_data"
    },
    {
     "data": {
      "text/latex": [
       "$\\displaystyle \\hat{U} = e^{i \\Delta k}$"
      ],
      "text/plain": [
       "<IPython.core.display.Math object>"
      ]
     },
     "metadata": {},
     "output_type": "display_data"
    },
    {
     "data": {
      "text/latex": [
       "$\\displaystyle |E_{f}(z,t)> = <D|\\hat{U}|E_{i}(z,t)> = \\frac{\\sqrt{2} \\cdot \\left(\\frac{2^{\\frac{3}{4}} a e^{i \\left(- \\omega t + k z\\right)} e^{- \\frac{\\left(t - \\frac{z}{c}\\right)^{2}}{4 \\sigma^{2}}}}{2 \\sqrt[4]{\\pi} \\sqrt{\\sigma}} + \\frac{2^{\\frac{3}{4}} b e^{i \\left(- \\omega t + k \\left(\\Delta + z\\right)\\right)} e^{- \\frac{\\left(t - \\frac{z}{c}\\right)^{2}}{4 \\sigma^{2}}}}{2 \\sqrt[4]{\\pi} \\sqrt{\\sigma}}\\right)}{2}$"
      ],
      "text/plain": [
       "<IPython.core.display.Math object>"
      ]
     },
     "metadata": {},
     "output_type": "display_data"
    }
   ],
   "source": [
    "#champ total initial\n",
    "E_i = (xi_1+xi_2)*phi\n",
    "display(Math(r'|E_{i}(z,t)> = '+smp.latex(E_i)))\n",
    "\n",
    "#PBS\n",
    "#effectue une mesure faible sur la partie horizontale de la polarisation\n",
    "E_1 = xi_1*a #celui faible\n",
    "E_2 = xi_2*b\n",
    "display(Math(r'|E_{1}(z,t)> = '+smp.latex(E_1)))\n",
    "display(Math(r'|E_{2}(z+\\Delta,t)> = '+smp.latex(E_2)))\n",
    "\n",
    "#résourd l'opérateur d'interaction\n",
    "U = smp.symbols(r'\\hat{U}')\n",
    "eq1 = smp.Eq(U*xi_1*a, xi_2*a)\n",
    "display(Math(smp.latex(eq1)))\n",
    "eq2 = smp.solve(eq1, U)\n",
    "U = eq2[0].simplify()\n",
    "display(Math(r'\\hat{U} = ' + smp.latex(U)))\n",
    "\n",
    "#postselection sur D = 1/sqrt(2)*(H_faible + V)\n",
    "E_w = ((1/smp.sqrt(2))*(E_1 + E_2))\n",
    "#mesure faible sur H\n",
    "display(Math(r'|E_{f}(z,t)> = <D|\\hat{U}|E_{i}(z,t)> = ' + smp.latex(E_w)))\n"
   ]
  },
  {
   "cell_type": "code",
   "execution_count": 13,
   "metadata": {},
   "outputs": [
    {
     "data": {
      "text/latex": [
       "$\\displaystyle I(z,t) = \\frac{\\sqrt{2} \\left(\\operatorname{re}{\\left(a e^{- i \\Delta k} \\overline{b}\\right)} + \\operatorname{re}{\\left(b e^{i \\Delta k} \\overline{a}\\right)} + \\left|{a}\\right|^{2} + \\left|{b}\\right|^{2}\\right) e^{\\frac{- c^{2} t^{2} + 2 c t z - z^{2}}{2 \\sigma^{2} c^{2}}}}{4 \\sqrt{\\pi} \\sigma}$"
      ],
      "text/plain": [
       "<IPython.core.display.Math object>"
      ]
     },
     "metadata": {},
     "output_type": "display_data"
    }
   ],
   "source": [
    "I = (smp.re(smp.conjugate(E_w)*E_w)).simplify()\n",
    "display(Math('I(z,t) = ' + smp.latex(I)))"
   ]
  },
  {
   "cell_type": "code",
   "execution_count": 14,
   "metadata": {},
   "outputs": [
    {
     "data": {
      "text/latex": [
       "$\\displaystyle A(t) = \\frac{2^{\\frac{3}{4}} e^{- \\frac{\\left(t - \\frac{z}{c}\\right)^{2}}{4 \\sigma^{2}}}}{2 \\sqrt[4]{\\pi} \\sqrt{\\sigma}}$"
      ],
      "text/plain": [
       "<IPython.core.display.Math object>"
      ]
     },
     "metadata": {},
     "output_type": "display_data"
    },
    {
     "data": {
      "text/latex": [
       "$\\displaystyle |\\xi_1(z,t)> = \\frac{2^{\\frac{3}{4}} e^{i \\left(- \\omega t + k z\\right)} e^{- \\frac{\\left(t - \\frac{z}{c}\\right)^{2}}{4 \\sigma^{2}}}}{2 \\sqrt[4]{\\pi} \\sqrt{\\sigma}}$"
      ],
      "text/plain": [
       "<IPython.core.display.Math object>"
      ]
     },
     "metadata": {},
     "output_type": "display_data"
    },
    {
     "data": {
      "text/latex": [
       "$\\displaystyle A(t) = \\frac{2^{\\frac{3}{4}} e^{- \\frac{\\left(t - \\frac{z}{c}\\right)^{2}}{4 \\sigma^{2}}}}{2 \\sqrt[4]{\\pi} \\sqrt{\\sigma}}$"
      ],
      "text/plain": [
       "<IPython.core.display.Math object>"
      ]
     },
     "metadata": {},
     "output_type": "display_data"
    },
    {
     "data": {
      "text/latex": [
       "$\\displaystyle |\\xi_2(z,t+\\tau)> = \\frac{2^{\\frac{3}{4}} e^{i \\left(- \\omega \\left(\\tau + t\\right) + k z\\right)} e^{- \\frac{\\left(\\tau + t - \\frac{z}{c}\\right)^{2}}{4 \\sigma^{2}}}}{2 \\sqrt[4]{\\pi} \\sqrt{\\sigma}}$"
      ],
      "text/plain": [
       "<IPython.core.display.Math object>"
      ]
     },
     "metadata": {},
     "output_type": "display_data"
    },
    {
     "data": {
      "text/latex": [
       "$\\displaystyle |\\xi(z,t+\\tau)> = \\frac{\\sqrt{2} \\cdot \\left(\\frac{2^{\\frac{3}{4}} e^{i \\left(- \\omega t + k z\\right)} e^{- \\frac{\\left(t - \\frac{z}{c}\\right)^{2}}{4 \\sigma^{2}}}}{2 \\sqrt[4]{\\pi} \\sqrt{\\sigma}} + \\frac{2^{\\frac{3}{4}} e^{i \\left(- \\omega \\left(\\tau + t\\right) + k z\\right)} e^{- \\frac{\\left(\\tau + t - \\frac{z}{c}\\right)^{2}}{4 \\sigma^{2}}}}{2 \\sqrt[4]{\\pi} \\sqrt{\\sigma}}\\right)}{2}$"
      ],
      "text/plain": [
       "<IPython.core.display.Math object>"
      ]
     },
     "metadata": {},
     "output_type": "display_data"
    }
   ],
   "source": [
    "A = (smp.sqrt(1/((smp.sqrt(2*smp.pi))*o)))*smp.exp(-((t-z/c)**2)/(4*o**2))\n",
    "display(Math('A(t) = '+smp.latex(A)))\n",
    "\n",
    "xi_1 = A*smp.exp(smp.I*(k*z - w*t))\n",
    "display(Math(r'|\\xi_1(z,t)> = '+smp.latex(xi_1)))\n",
    "\n",
    "A_f = (smp.sqrt(1/((smp.sqrt(2*smp.pi))*o)))*smp.exp(-((t+tau -z/c)**2)/(4*o**2))\n",
    "display(Math('A(t) = '+smp.latex(A)))\n",
    "\n",
    "xi_2 = A_f*smp.exp(smp.I*(k*z - w*(t+tau)))\n",
    "display(Math(r'|\\xi_2(z,t+\\tau)> = '+smp.latex(xi_2)))\n",
    "\n",
    "xi_t = (1/smp.sqrt(2))*(xi_1+xi_2)\n",
    "display(Math(r'|\\xi(z,t+\\tau)> = '+smp.latex(xi_t)))"
   ]
  },
  {
   "cell_type": "code",
   "execution_count": 15,
   "metadata": {},
   "outputs": [
    {
     "data": {
      "text/latex": [
       "$\\displaystyle |E_{i}(z,t)> = \\left(a + b\\right) \\left(\\frac{2^{\\frac{3}{4}} e^{i \\left(- \\omega t + k z\\right)} e^{- \\frac{\\left(t - \\frac{z}{c}\\right)^{2}}{4 \\sigma^{2}}}}{2 \\sqrt[4]{\\pi} \\sqrt{\\sigma}} + \\frac{2^{\\frac{3}{4}} e^{i \\left(- \\omega \\left(\\tau + t\\right) + k z\\right)} e^{- \\frac{\\left(\\tau + t - \\frac{z}{c}\\right)^{2}}{4 \\sigma^{2}}}}{2 \\sqrt[4]{\\pi} \\sqrt{\\sigma}}\\right)$"
      ],
      "text/plain": [
       "<IPython.core.display.Math object>"
      ]
     },
     "metadata": {},
     "output_type": "display_data"
    },
    {
     "data": {
      "text/latex": [
       "$\\displaystyle |E_{1}(z,t)> = \\frac{2^{\\frac{3}{4}} a e^{i \\left(- \\omega t + k z\\right)} e^{- \\frac{\\left(t - \\frac{z}{c}\\right)^{2}}{4 \\sigma^{2}}}}{2 \\sqrt[4]{\\pi} \\sqrt{\\sigma}}$"
      ],
      "text/plain": [
       "<IPython.core.display.Math object>"
      ]
     },
     "metadata": {},
     "output_type": "display_data"
    },
    {
     "data": {
      "text/latex": [
       "$\\displaystyle |E_{2}(z+\\Delta,t)> = \\frac{2^{\\frac{3}{4}} b e^{i \\left(- \\omega \\left(\\tau + t\\right) + k z\\right)} e^{- \\frac{\\left(\\tau + t - \\frac{z}{c}\\right)^{2}}{4 \\sigma^{2}}}}{2 \\sqrt[4]{\\pi} \\sqrt{\\sigma}}$"
      ],
      "text/plain": [
       "<IPython.core.display.Math object>"
      ]
     },
     "metadata": {},
     "output_type": "display_data"
    },
    {
     "data": {
      "text/latex": [
       "$\\displaystyle \\frac{2^{\\frac{3}{4}} \\hat{U} a e^{i \\left(- \\omega t + k z\\right)} e^{- \\frac{\\left(t - \\frac{z}{c}\\right)^{2}}{4 \\sigma^{2}}}}{2 \\sqrt[4]{\\pi} \\sqrt{\\sigma}} = \\frac{2^{\\frac{3}{4}} a e^{i \\left(- \\omega \\left(\\tau + t\\right) + k z\\right)} e^{- \\frac{\\left(\\tau + t - \\frac{z}{c}\\right)^{2}}{4 \\sigma^{2}}}}{2 \\sqrt[4]{\\pi} \\sqrt{\\sigma}}$"
      ],
      "text/plain": [
       "<IPython.core.display.Math object>"
      ]
     },
     "metadata": {},
     "output_type": "display_data"
    },
    {
     "data": {
      "text/latex": [
       "$\\displaystyle \\hat{U} = e^{\\frac{- 4 i \\omega \\sigma^{2} \\tau c^{2} + \\left(c t - z\\right)^{2} - \\left(c \\left(\\tau + t\\right) - z\\right)^{2}}{4 \\sigma^{2} c^{2}}}$"
      ],
      "text/plain": [
       "<IPython.core.display.Math object>"
      ]
     },
     "metadata": {},
     "output_type": "display_data"
    },
    {
     "data": {
      "text/latex": [
       "$\\displaystyle |E_{f}(z,t)> = <D|\\hat{U}|E_{i}(z,t)> = \\frac{\\sqrt{2} \\cdot \\left(\\frac{2^{\\frac{3}{4}} a e^{i \\left(- \\omega t + k z\\right)} e^{- \\frac{\\left(t - \\frac{z}{c}\\right)^{2}}{4 \\sigma^{2}}}}{2 \\sqrt[4]{\\pi} \\sqrt{\\sigma}} + \\frac{2^{\\frac{3}{4}} b e^{i \\left(- \\omega \\left(\\tau + t\\right) + k z\\right)} e^{- \\frac{\\left(\\tau + t - \\frac{z}{c}\\right)^{2}}{4 \\sigma^{2}}}}{2 \\sqrt[4]{\\pi} \\sqrt{\\sigma}}\\right)}{2}$"
      ],
      "text/plain": [
       "<IPython.core.display.Math object>"
      ]
     },
     "metadata": {},
     "output_type": "display_data"
    }
   ],
   "source": [
    "#champ total initial\n",
    "E_i = (xi_1+xi_2)*phi\n",
    "display(Math(r'|E_{i}(z,t)> = '+smp.latex(E_i)))\n",
    "\n",
    "#PBS\n",
    "#effectue une mesure faible sur la partie horizontale de la polarisation\n",
    "E_1 = xi_1*a #celui faible\n",
    "E_2 = xi_2*b\n",
    "display(Math(r'|E_{1}(z,t)> = '+smp.latex(E_1)))\n",
    "display(Math(r'|E_{2}(z+\\Delta,t)> = '+smp.latex(E_2)))\n",
    "\n",
    "#résourd l'opérateur d'interaction\n",
    "U = smp.symbols(r'\\hat{U}')\n",
    "eq1 = smp.Eq(U*xi_1*a, xi_2*a)\n",
    "display(Math(smp.latex(eq1)))\n",
    "eq2 = smp.solve(eq1, U)\n",
    "U = eq2[0].simplify()\n",
    "display(Math(r'\\hat{U} = ' + smp.latex(U)))\n",
    "\n",
    "#postselection sur D = 1/sqrt(2)*(H_faible + V)\n",
    "E_w = ((1/smp.sqrt(2))*(E_1 + E_2))\n",
    "#mesure faible sur H\n",
    "display(Math(r'|E_{f}(z,t)> = <D|\\hat{U}|E_{i}(z,t)> = ' + smp.latex(E_w)))"
   ]
  },
  {
   "cell_type": "code",
   "execution_count": 16,
   "metadata": {},
   "outputs": [
    {
     "data": {
      "text/latex": [
       "$\\displaystyle I(z,t) = \\frac{\\sqrt{2} \\left(e^{\\frac{- c^{2} t^{2} + 2 c t z - z^{2}}{2 \\sigma^{2} c^{2}}} \\left|{a}\\right|^{2} + e^{\\frac{- c^{2} \\left(\\tau^{2} + 2 \\tau t + t^{2}\\right) + 2 c z \\left(\\tau + t\\right) - z^{2}}{2 \\sigma^{2} c^{2}}} \\left|{b}\\right|^{2} + e^{\\frac{- c^{2} t^{2} - c^{2} \\left(\\tau^{2} + 2 \\tau t + t^{2}\\right) + 2 c t z + 2 c z \\left(\\tau + t\\right) - 2 z^{2}}{4 \\sigma^{2} c^{2}}} \\operatorname{re}{\\left(a e^{i \\omega \\tau} \\overline{b}\\right)} + e^{\\frac{- c^{2} t^{2} - c^{2} \\left(\\tau^{2} + 2 \\tau t + t^{2}\\right) + 2 c t z + 2 c z \\left(\\tau + t\\right) - 2 z^{2}}{4 \\sigma^{2} c^{2}}} \\operatorname{re}{\\left(b e^{- i \\omega \\tau} \\overline{a}\\right)}\\right)}{4 \\sqrt{\\pi} \\sigma}$"
      ],
      "text/plain": [
       "<IPython.core.display.Math object>"
      ]
     },
     "metadata": {},
     "output_type": "display_data"
    }
   ],
   "source": [
    "I = (smp.re(smp.conjugate(E_w)*E_w)).simplify()\n",
    "display(Math('I(z,t) = ' + smp.latex(I)))"
   ]
  },
  {
   "attachments": {},
   "cell_type": "markdown",
   "metadata": {},
   "source": [
    "Trouvons la partie réel de la valeur faible"
   ]
  },
  {
   "cell_type": "code",
   "execution_count": 17,
   "metadata": {},
   "outputs": [
    {
     "data": {
      "text/latex": [
       "$\\displaystyle \\langle \\hat{T} \\rangle= <E_{f}(z,t)|\\hat{t}|E_{f}(z,t)> =- \\frac{\\tau a e^{i \\omega \\tau - \\frac{\\tau^{2}}{8 \\sigma^{2}}} \\overline{b}}{4} - \\frac{\\tau b e^{- i \\omega \\tau - \\frac{\\tau^{2}}{8 \\sigma^{2}}} \\overline{a}}{4} - \\frac{\\tau b \\overline{b}}{2} + \\frac{a z e^{i \\omega \\tau - \\frac{\\tau^{2}}{8 \\sigma^{2}}} \\overline{b}}{2 c} + \\frac{a z \\overline{a}}{2 c} + \\frac{b z e^{- i \\omega \\tau - \\frac{\\tau^{2}}{8 \\sigma^{2}}} \\overline{a}}{2 c} + \\frac{b z \\overline{b}}{2 c}$"
      ],
      "text/plain": [
       "<IPython.core.display.Math object>"
      ]
     },
     "metadata": {},
     "output_type": "display_data"
    },
    {
     "data": {
      "text/latex": [
       "$\\displaystyle \\lim_{e^{\\frac{-\\delta^{2}}{8\\sigma^{2}}} \\to 1} \\langle \\hat{T} \\rangle= \\frac{\\left(- \\tau b c \\overline{a} - \\tau c \\left(a e^{i \\omega \\tau} + 2 b\\right) e^{i \\omega \\tau} \\overline{b} + 2 b z \\overline{a} + 2 z \\left(a e^{i \\omega \\tau} \\overline{b} + a \\overline{a} + b \\overline{b}\\right) e^{i \\omega \\tau}\\right) e^{- i \\omega \\tau}}{4 c}$"
      ],
      "text/plain": [
       "<IPython.core.display.Math object>"
      ]
     },
     "metadata": {},
     "output_type": "display_data"
    }
   ],
   "source": [
    "t_moy = (smp.integrate(smp.conjugate(E_w)*t*E_w, (t, -smp.oo, smp.oo))).simplify()\n",
    "display(Math(r'\\langle \\hat{T} \\rangle= <E_{f}(z,t)|\\hat{t}|E_{f}(z,t)> =' +smp.latex(t_moy)))\n",
    "\n",
    "t_moy_limit = t_moy.subs(smp.exp((-tau**2)/(8*o**2)), 1)\n",
    "display(Math(r'\\lim_{e^{\\frac{-\\delta^{2}}{8\\sigma^{2}}} \\to 1} \\langle \\hat{T} \\rangle= ' +smp.latex(t_moy_limit.simplify())))"
   ]
  },
  {
   "attachments": {},
   "cell_type": "markdown",
   "metadata": {},
   "source": [
    "Trouvons le G_1"
   ]
  },
  {
   "cell_type": "code",
   "execution_count": 18,
   "metadata": {},
   "outputs": [
    {
     "data": {
      "text/latex": [
       "$\\displaystyle G(\\tau) = a e^{\\tau \\left(i \\omega - \\frac{\\tau}{8 \\sigma^{2}}\\right)} \\overline{b}$"
      ],
      "text/plain": [
       "<IPython.core.display.Math object>"
      ]
     },
     "metadata": {},
     "output_type": "display_data"
    },
    {
     "data": {
      "text/latex": [
       "$\\displaystyle G(0) = b \\overline{b}$"
      ],
      "text/plain": [
       "<IPython.core.display.Math object>"
      ]
     },
     "metadata": {},
     "output_type": "display_data"
    },
    {
     "data": {
      "text/latex": [
       "$\\displaystyle g^{(1)}(\\tau) = \\frac{a e^{\\tau \\left(i \\omega - \\frac{\\tau}{8 \\sigma^{2}}\\right)}}{b}$"
      ],
      "text/plain": [
       "<IPython.core.display.Math object>"
      ]
     },
     "metadata": {},
     "output_type": "display_data"
    }
   ],
   "source": [
    "G_1_TAU = (smp.integrate(smp.conjugate(E_2)*E_1, (t, -smp.oo, smp.oo))).simplify()\n",
    "display(Math(r'G(\\tau) = ' + smp.latex(G_1_TAU)))\n",
    "G_1_ZERO = smp.integrate(smp.conjugate(E_2)*E_2, (t, -smp.oo, smp.oo))\n",
    "display(Math(r'G(0) = ' + smp.latex(G_1_ZERO.simplify())))\n",
    "\n",
    "g_1 = (G_1_TAU/G_1_ZERO).simplify()\n",
    "display(Math(r'g^{(1)}(\\tau) = ' + smp.latex(g_1)))"
   ]
  },
  {
   "attachments": {},
   "cell_type": "markdown",
   "metadata": {},
   "source": [
    "La temps de cohérence"
   ]
  },
  {
   "cell_type": "code",
   "execution_count": 19,
   "metadata": {},
   "outputs": [
    {
     "data": {
      "text/latex": [
       "$\\displaystyle \\tau_c = \\frac{2 \\sqrt{\\pi} \\sigma a \\overline{a}}{b \\overline{b}}$"
      ],
      "text/plain": [
       "<IPython.core.display.Math object>"
      ]
     },
     "metadata": {},
     "output_type": "display_data"
    }
   ],
   "source": [
    "tau_c = smp.integrate((smp.conjugate(g_1)*g_1), (tau, -smp.oo, smp.oo))\n",
    "display(Math(r'\\tau_c = ' + smp.latex(tau_c)))"
   ]
  },
  {
   "attachments": {},
   "cell_type": "markdown",
   "metadata": {},
   "source": [
    "Ici nous allons trouvons la partie imaginaire de la valeur faible avec le power spectrum et la fonction de transformation de fourier."
   ]
  },
  {
   "cell_type": "code",
   "execution_count": 20,
   "metadata": {},
   "outputs": [
    {
     "data": {
      "text/latex": [
       "$\\displaystyle S(f) = 2 \\sqrt{2} \\sqrt{\\pi} \\sigma a \\overline{b}$"
      ],
      "text/plain": [
       "<IPython.core.display.Math object>"
      ]
     },
     "metadata": {},
     "output_type": "display_data"
    }
   ],
   "source": [
    "f = smp.symbols('f', real=True, constante=True, positive=True)\n",
    "G_1_TAU=G_1_TAU.subs(w, 2*smp.pi*f)\n",
    "#using the autocorrelation function\n",
    "S = (smp.integrate(G_1_TAU*smp.exp(-smp.I*2*smp.pi*f*tau), (tau, -smp.oo, smp.oo))).simplify()\n",
    "display(Math(r'S(f) = ' + smp.latex(S)))"
   ]
  },
  {
   "cell_type": "code",
   "execution_count": 21,
   "metadata": {},
   "outputs": [
    {
     "data": {
      "text/latex": [
       "$\\displaystyle \\Delta f = \\text{NaN}$"
      ],
      "text/plain": [
       "<IPython.core.display.Math object>"
      ]
     },
     "metadata": {},
     "output_type": "display_data"
    }
   ],
   "source": [
    "df = (((smp.integrate(S, (f, 0, smp.oo)))**2)/(smp.integrate(S**2, (f, 0, smp.oo)))).simplify()\n",
    "display(Math(r'\\Delta f = ' + smp.latex(df.simplify())))"
   ]
  },
  {
   "cell_type": "code",
   "execution_count": 22,
   "metadata": {},
   "outputs": [
    {
     "data": {
      "text/latex": [
       "$\\displaystyle I_s = \\frac{\\infty \\operatorname{re}{\\left(a \\overline{b}\\right)}}{\\left|{a \\overline{b}}\\right|}$"
      ],
      "text/plain": [
       "<IPython.core.display.Math object>"
      ]
     },
     "metadata": {},
     "output_type": "display_data"
    }
   ],
   "source": [
    "I_s = smp.re(smp.integrate(S, (f, 0, smp.oo)))\n",
    "display(Math(r'I_s = ' + smp.latex(I_s.simplify())))"
   ]
  },
  {
   "cell_type": "code",
   "execution_count": 23,
   "metadata": {},
   "outputs": [
    {
     "data": {
      "text/latex": [
       "$\\displaystyle <\\hat{\\Omega}> = <S(\\omega)|\\hat{\\omega}|S(\\omega)> =\\infty \\operatorname{sign}{\\left(a b \\overline{a} \\overline{b} \\right)}$"
      ],
      "text/plain": [
       "<IPython.core.display.Math object>"
      ]
     },
     "metadata": {},
     "output_type": "display_data"
    }
   ],
   "source": [
    "w_moy = (smp.integrate(smp.conjugate(S)*f*S, (f, 0, smp.oo))).simplify()\n",
    "display(Math(r'<\\hat{\\Omega}> = <S(\\omega)|\\hat{\\omega}|S(\\omega)> =' +smp.latex(w_moy)))"
   ]
  },
  {
   "cell_type": "code",
   "execution_count": 24,
   "metadata": {},
   "outputs": [
    {
     "data": {
      "text/latex": [
       "$\\displaystyle F(\\omega) = \\frac{\\sqrt{2} \\sigma a e^{- 8 \\omega^{2} \\sigma^{2}}}{\\sqrt{\\pi} b}$"
      ],
      "text/plain": [
       "<IPython.core.display.Math object>"
      ]
     },
     "metadata": {},
     "output_type": "display_data"
    }
   ],
   "source": [
    "F_w = (1/(2*smp.pi)*smp.integrate(g_1*smp.exp(smp.I*w*tau), (tau, -smp.oo, smp.oo))).simplify()\n",
    "display(Math(r'F(\\omega) = ' + smp.latex(F_w)))"
   ]
  },
  {
   "cell_type": "code",
   "execution_count": 25,
   "metadata": {},
   "outputs": [
    {
     "data": {
      "text/latex": [
       "$\\displaystyle <\\hat{\\Omega}> = <F(\\omega)|\\hat{\\omega}|F(\\omega)> =\\frac{a \\overline{a}}{16 \\pi b \\overline{b}}$"
      ],
      "text/plain": [
       "<IPython.core.display.Math object>"
      ]
     },
     "metadata": {},
     "output_type": "display_data"
    }
   ],
   "source": [
    "w_moy = (smp.integrate(smp.conjugate(F_w)*w*F_w, (w, 0, smp.oo))).simplify()\n",
    "display(Math(r'<\\hat{\\Omega}> = <F(\\omega)|\\hat{\\omega}|F(\\omega)> =' +smp.latex(w_moy)))"
   ]
  },
  {
   "cell_type": "code",
   "execution_count": null,
   "metadata": {},
   "outputs": [],
   "source": []
  }
 ],
 "metadata": {
  "kernelspec": {
   "display_name": "Python 3",
   "language": "python",
   "name": "python3"
  },
  "language_info": {
   "codemirror_mode": {
    "name": "ipython",
    "version": 3
   },
   "file_extension": ".py",
   "mimetype": "text/x-python",
   "name": "python",
   "nbconvert_exporter": "python",
   "pygments_lexer": "ipython3",
   "version": "3.11.3"
  },
  "orig_nbformat": 4
 },
 "nbformat": 4,
 "nbformat_minor": 2
}
