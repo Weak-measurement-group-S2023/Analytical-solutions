{
 "cells": [
  {
   "cell_type": "code",
   "execution_count": 64,
   "metadata": {},
   "outputs": [],
   "source": [
    "#sympy pour effectuer les calcules\n",
    "import sympy as smp\n",
    "from IPython.display import display, Math"
   ]
  },
  {
   "cell_type": "code",
   "execution_count": 65,
   "metadata": {},
   "outputs": [],
   "source": [
    "a = smp.symbols('a', real=False, complex = True)\n",
    "t = smp.symbols('t', real=True)\n",
    "o = smp.symbols(r'\\sigma', real=True, positive = True)\n",
    "b = smp.symbols('b', real=False, complex = True)\n",
    "d = smp.symbols(r'\\delta', real=True)\n",
    "z = smp.symbols('z', real=True)\n",
    "k = smp.symbols('k', real=True, positive=True)\n",
    "w = smp.symbols(r'\\omega', real=True, positive=True)\n",
    "tau = smp.symbols(r'\\tau', real=True)\n",
    "c = smp.symbols('c', real=True, positive=True, constant=True)\n",
    "delta_D = smp.symbols(r'\\Delta', real=True)"
   ]
  },
  {
   "cell_type": "code",
   "execution_count": 66,
   "metadata": {},
   "outputs": [
    {
     "data": {
      "text/latex": [
       "$\\displaystyle A(t) = \\frac{2^{\\frac{3}{4}} e^{- \\frac{\\left(t - \\frac{z}{c}\\right)^{2}}{4 \\sigma^{2}}}}{2 \\sqrt[4]{\\pi} \\sqrt{\\sigma}}$"
      ],
      "text/plain": [
       "<IPython.core.display.Math object>"
      ]
     },
     "metadata": {},
     "output_type": "display_data"
    },
    {
     "data": {
      "text/latex": [
       "$\\displaystyle |\\xi_1(z,t)> = \\frac{2^{\\frac{3}{4}} e^{i \\left(- \\omega t + k z\\right)} e^{- \\frac{\\left(t - \\frac{z}{c}\\right)^{2}}{4 \\sigma^{2}}}}{2 \\sqrt[4]{\\pi} \\sqrt{\\sigma}}$"
      ],
      "text/plain": [
       "<IPython.core.display.Math object>"
      ]
     },
     "metadata": {},
     "output_type": "display_data"
    },
    {
     "data": {
      "text/latex": [
       "$\\displaystyle A(t) = \\frac{2^{\\frac{3}{4}} e^{- \\frac{\\left(t - \\frac{z}{c}\\right)^{2}}{4 \\sigma^{2}}}}{2 \\sqrt[4]{\\pi} \\sqrt{\\sigma}}$"
      ],
      "text/plain": [
       "<IPython.core.display.Math object>"
      ]
     },
     "metadata": {},
     "output_type": "display_data"
    },
    {
     "data": {
      "text/latex": [
       "$\\displaystyle |\\xi_2(z+\\Delta,t)> = \\frac{2^{\\frac{3}{4}} e^{i \\left(- \\omega t + k \\left(\\Delta + z\\right)\\right)} e^{- \\frac{\\left(t - \\frac{\\Delta + z}{c}\\right)^{2}}{4 \\sigma^{2}}}}{2 \\sqrt[4]{\\pi} \\sqrt{\\sigma}}$"
      ],
      "text/plain": [
       "<IPython.core.display.Math object>"
      ]
     },
     "metadata": {},
     "output_type": "display_data"
    },
    {
     "data": {
      "text/latex": [
       "$\\displaystyle |\\xi(z+\\Delta,t)> = \\frac{\\sqrt{2} \\cdot \\left(\\frac{2^{\\frac{3}{4}} e^{i \\left(- \\omega t + k z\\right)} e^{- \\frac{\\left(t - \\frac{z}{c}\\right)^{2}}{4 \\sigma^{2}}}}{2 \\sqrt[4]{\\pi} \\sqrt{\\sigma}} + \\frac{2^{\\frac{3}{4}} e^{i \\left(- \\omega t + k \\left(\\Delta + z\\right)\\right)} e^{- \\frac{\\left(t - \\frac{\\Delta + z}{c}\\right)^{2}}{4 \\sigma^{2}}}}{2 \\sqrt[4]{\\pi} \\sqrt{\\sigma}}\\right)}{2}$"
      ],
      "text/plain": [
       "<IPython.core.display.Math object>"
      ]
     },
     "metadata": {},
     "output_type": "display_data"
    }
   ],
   "source": [
    "A = (smp.sqrt(1/((smp.sqrt(2*smp.pi))*o)))*smp.exp(-((t-z/c)**2)/(4*o**2))\n",
    "display(Math('A(t) = '+smp.latex(A)))\n",
    "\n",
    "xi_1 = A*smp.exp(smp.I*(k*(z) - w*t))\n",
    "display(Math(r'|\\xi_1(z,t)> = '+smp.latex(xi_1)))\n",
    "\n",
    "A_f = (smp.sqrt(1/((smp.sqrt(2*smp.pi))*o)))*smp.exp(-((t -(z+delta_D)/c)**2)/(4*o**2))\n",
    "display(Math('A(t) = '+smp.latex(A)))\n",
    "\n",
    "xi_2 = A_f*smp.exp(smp.I*(k*(z+delta_D) - w*(t)))\n",
    "display(Math(r'|\\xi_2(z+\\Delta,t)> = '+smp.latex(xi_2)))\n",
    "\n",
    "xi_d = (1/smp.sqrt(2))*(xi_1+xi_2)\n",
    "display(Math(r'|\\xi(z+\\Delta,t)> = '+smp.latex(xi_d)))"
   ]
  },
  {
   "cell_type": "code",
   "execution_count": 67,
   "metadata": {},
   "outputs": [
    {
     "data": {
      "text/latex": [
       "$\\displaystyle |\\varphi(\\theta, \\phi)> = a |H> + b |V>$"
      ],
      "text/plain": [
       "<IPython.core.display.Math object>"
      ]
     },
     "metadata": {},
     "output_type": "display_data"
    },
    {
     "data": {
      "text/latex": [
       "$\\displaystyle |E(z,t)> = |\\varphi(\\theta, \\phi)> \\otimes |\\xi(z,t)>$"
      ],
      "text/plain": [
       "<IPython.core.display.Math object>"
      ]
     },
     "metadata": {},
     "output_type": "display_data"
    }
   ],
   "source": [
    "#intiallement\n",
    "phi = a + b\n",
    "H = smp.symbols('|H>')\n",
    "V = smp.symbols('|V>')\n",
    "display(Math(r'|\\varphi(\\theta, \\phi)> = ' +smp.latex(a*H + b*V)))\n",
    "display(Math(r'|E(z,t)> = |\\varphi(\\theta, \\phi)> \\otimes |\\xi(z,t)>'))"
   ]
  },
  {
   "cell_type": "code",
   "execution_count": 68,
   "metadata": {},
   "outputs": [
    {
     "data": {
      "text/latex": [
       "$\\displaystyle |E_{i}(z,t)> = \\left(a + b\\right) \\left(\\frac{2^{\\frac{3}{4}} e^{i \\left(- \\omega t + k z\\right)} e^{- \\frac{\\left(t - \\frac{z}{c}\\right)^{2}}{4 \\sigma^{2}}}}{2 \\sqrt[4]{\\pi} \\sqrt{\\sigma}} + \\frac{2^{\\frac{3}{4}} e^{i \\left(- \\omega t + k \\left(\\Delta + z\\right)\\right)} e^{- \\frac{\\left(t - \\frac{\\Delta + z}{c}\\right)^{2}}{4 \\sigma^{2}}}}{2 \\sqrt[4]{\\pi} \\sqrt{\\sigma}}\\right)$"
      ],
      "text/plain": [
       "<IPython.core.display.Math object>"
      ]
     },
     "metadata": {},
     "output_type": "display_data"
    },
    {
     "data": {
      "text/latex": [
       "$\\displaystyle |E_{1}(z,t)> = \\frac{2^{\\frac{3}{4}} a e^{i \\left(- \\omega t + k z\\right)} e^{- \\frac{\\left(t - \\frac{z}{c}\\right)^{2}}{4 \\sigma^{2}}}}{2 \\sqrt[4]{\\pi} \\sqrt{\\sigma}}$"
      ],
      "text/plain": [
       "<IPython.core.display.Math object>"
      ]
     },
     "metadata": {},
     "output_type": "display_data"
    },
    {
     "data": {
      "text/latex": [
       "$\\displaystyle |E_{2}(z+\\Delta,t)> = \\frac{2^{\\frac{3}{4}} b e^{i \\left(- \\omega t + k \\left(\\Delta + z\\right)\\right)} e^{- \\frac{\\left(t - \\frac{\\Delta + z}{c}\\right)^{2}}{4 \\sigma^{2}}}}{2 \\sqrt[4]{\\pi} \\sqrt{\\sigma}}$"
      ],
      "text/plain": [
       "<IPython.core.display.Math object>"
      ]
     },
     "metadata": {},
     "output_type": "display_data"
    },
    {
     "data": {
      "text/latex": [
       "$\\displaystyle \\frac{2^{\\frac{3}{4}} \\hat{U} a e^{i \\left(- \\omega t + k z\\right)} e^{- \\frac{\\left(t - \\frac{z}{c}\\right)^{2}}{4 \\sigma^{2}}}}{2 \\sqrt[4]{\\pi} \\sqrt{\\sigma}} = \\frac{2^{\\frac{3}{4}} a e^{i \\left(- \\omega t + k \\left(\\Delta + z\\right)\\right)} e^{- \\frac{\\left(t - \\frac{\\Delta + z}{c}\\right)^{2}}{4 \\sigma^{2}}}}{2 \\sqrt[4]{\\pi} \\sqrt{\\sigma}}$"
      ],
      "text/plain": [
       "<IPython.core.display.Math object>"
      ]
     },
     "metadata": {},
     "output_type": "display_data"
    },
    {
     "data": {
      "text/latex": [
       "$\\displaystyle \\hat{U} = e^{\\frac{4 i \\Delta \\sigma^{2} c^{2} k + \\left(c t - z\\right)^{2} - \\left(\\Delta - c t + z\\right)^{2}}{4 \\sigma^{2} c^{2}}}$"
      ],
      "text/plain": [
       "<IPython.core.display.Math object>"
      ]
     },
     "metadata": {},
     "output_type": "display_data"
    },
    {
     "data": {
      "text/latex": [
       "$\\displaystyle |E_{f}(z,t)> = <D|\\hat{U}|E_{i}(z,t)> = \\frac{\\sqrt{2} \\cdot \\left(\\frac{2^{\\frac{3}{4}} a e^{i \\left(- \\omega t + k z\\right)} e^{- \\frac{\\left(t - \\frac{z}{c}\\right)^{2}}{4 \\sigma^{2}}}}{2 \\sqrt[4]{\\pi} \\sqrt{\\sigma}} + \\frac{2^{\\frac{3}{4}} b e^{i \\left(- \\omega t + k \\left(\\Delta + z\\right)\\right)} e^{- \\frac{\\left(t - \\frac{\\Delta + z}{c}\\right)^{2}}{4 \\sigma^{2}}}}{2 \\sqrt[4]{\\pi} \\sqrt{\\sigma}}\\right)}{2}$"
      ],
      "text/plain": [
       "<IPython.core.display.Math object>"
      ]
     },
     "metadata": {},
     "output_type": "display_data"
    }
   ],
   "source": [
    "#champ total initial\n",
    "E_i = (xi_1+xi_2)*phi\n",
    "display(Math(r'|E_{i}(z,t)> = '+smp.latex(E_i)))\n",
    "\n",
    "#PBS\n",
    "#effectue une mesure faible sur la partie horizontale de la polarisation\n",
    "E_1 = xi_1*a #celui faible\n",
    "E_2 = xi_2*b\n",
    "display(Math(r'|E_{1}(z,t)> = '+smp.latex(E_1)))\n",
    "display(Math(r'|E_{2}(z+\\Delta,t)> = '+smp.latex(E_2)))\n",
    "\n",
    "#résourd l'opérateur d'interaction\n",
    "U = smp.symbols(r'\\hat{U}')\n",
    "eq1 = smp.Eq(U*xi_1*a, xi_2*a)\n",
    "display(Math(smp.latex(eq1)))\n",
    "eq2 = smp.solve(eq1, U)\n",
    "U = eq2[0].simplify()\n",
    "display(Math(r'\\hat{U} = ' + smp.latex(U)))\n",
    "\n",
    "#postselection sur D = 1/sqrt(2)*(H_faible + V)\n",
    "E_w = ((1/smp.sqrt(2))*(E_1 + E_2))\n",
    "#mesure faible sur H\n",
    "display(Math(r'|E_{f}(z,t)> = <D|\\hat{U}|E_{i}(z,t)> = ' + smp.latex(E_w)))"
   ]
  },
  {
   "cell_type": "code",
   "execution_count": 69,
   "metadata": {},
   "outputs": [
    {
     "data": {
      "text/latex": [
       "$\\displaystyle I(z+\\Delta,t) =\\frac{\\sqrt{2} \\cdot \\left(2 e^{\\frac{\\Delta \\left(- \\frac{\\Delta}{c} + 2 t - \\frac{2 z}{c}\\right)}{4 \\sigma^{2} c}} \\cos{\\left(\\Delta k \\right)} + e^{\\frac{\\Delta \\left(- \\frac{\\Delta}{2 c} + t - \\frac{z}{c}\\right)}{\\sigma^{2} c}} + 1\\right) e^{\\frac{- \\frac{t^{2}}{2} + \\frac{t z}{c} - \\frac{z^{2}}{2 c^{2}}}{\\sigma^{2}}}}{4 \\sqrt{\\pi} \\sigma}$"
      ],
      "text/plain": [
       "<IPython.core.display.Math object>"
      ]
     },
     "metadata": {},
     "output_type": "display_data"
    }
   ],
   "source": [
    "I_d = smp.re(smp.conjugate(xi_d)*xi_d)\n",
    "display(Math(r'I(z+\\Delta,t) ='+smp.latex(I_d.simplify())))"
   ]
  },
  {
   "cell_type": "code",
   "execution_count": 70,
   "metadata": {},
   "outputs": [
    {
     "data": {
      "text/latex": [
       "$\\displaystyle I(z+\\Delta,t) =\\frac{\\sqrt{2} \\cdot \\left(2 e^{\\frac{\\Delta \\left(- \\frac{\\Delta}{c} + 2 t - \\frac{2 z}{c}\\right)}{4 \\sigma^{2} c}} \\cos{\\left(\\Delta k \\right)} + e^{\\frac{\\Delta \\left(- \\frac{\\Delta}{2 c} + t - \\frac{z}{c}\\right)}{\\sigma^{2} c}} + 1\\right) e^{\\frac{- \\frac{t^{2}}{2} + \\frac{t z}{c} - \\frac{z^{2}}{2 c^{2}}}{\\sigma^{2}}}}{4 \\sqrt{\\pi} \\sigma}$"
      ],
      "text/plain": [
       "<IPython.core.display.Math object>"
      ]
     },
     "metadata": {},
     "output_type": "display_data"
    }
   ],
   "source": [
    "I_pol = smp.re(smp.conjugate(E_w)*E_w)\n",
    "display(Math(r'I(z+\\Delta,t) ='+smp.latex(I_d.simplify())))"
   ]
  },
  {
   "cell_type": "code",
   "execution_count": 71,
   "metadata": {},
   "outputs": [
    {
     "data": {
      "text/latex": [
       "$\\displaystyle G(\\tau) = e^{\\Delta \\left(- \\frac{\\Delta}{8 \\sigma^{2} c^{2}} + i k\\right)}$"
      ],
      "text/plain": [
       "<IPython.core.display.Math object>"
      ]
     },
     "metadata": {},
     "output_type": "display_data"
    },
    {
     "data": {
      "text/latex": [
       "$\\displaystyle G(0) = 1$"
      ],
      "text/plain": [
       "<IPython.core.display.Math object>"
      ]
     },
     "metadata": {},
     "output_type": "display_data"
    },
    {
     "data": {
      "text/latex": [
       "$\\displaystyle g^{(1)}(\\tau) = e^{\\Delta \\left(- \\frac{\\Delta}{8 \\sigma^{2} c^{2}} + i k\\right)}$"
      ],
      "text/plain": [
       "<IPython.core.display.Math object>"
      ]
     },
     "metadata": {},
     "output_type": "display_data"
    }
   ],
   "source": [
    "G_1_TAU = (smp.integrate(smp.conjugate(xi_1)*xi_2, (t, -smp.oo, smp.oo))).simplify()\n",
    "display(Math(r'G(\\tau) = ' + smp.latex(G_1_TAU)))\n",
    "G_1_ZERO = smp.integrate(smp.conjugate(xi_1)*xi_1, (t, -smp.oo, smp.oo))\n",
    "display(Math(r'G(0) = ' + smp.latex(G_1_ZERO.simplify())))\n",
    "\n",
    "g_1 = (G_1_TAU/G_1_ZERO).simplify()\n",
    "display(Math(r'g^{(1)}(\\tau) = ' + smp.latex(g_1)))"
   ]
  },
  {
   "cell_type": "code",
   "execution_count": 72,
   "metadata": {},
   "outputs": [
    {
     "data": {
      "text/latex": [
       "$\\displaystyle G(\\Delta) = b e^{\\Delta \\left(- \\frac{\\Delta}{8 \\sigma^{2} c^{2}} + i k\\right)} \\overline{a}$"
      ],
      "text/plain": [
       "<IPython.core.display.Math object>"
      ]
     },
     "metadata": {},
     "output_type": "display_data"
    },
    {
     "data": {
      "text/latex": [
       "$\\displaystyle G(0) = a \\overline{a}$"
      ],
      "text/plain": [
       "<IPython.core.display.Math object>"
      ]
     },
     "metadata": {},
     "output_type": "display_data"
    },
    {
     "data": {
      "text/latex": [
       "$\\displaystyle g^{(1)}(\\Delta) = \\frac{b e^{\\Delta \\left(- \\frac{\\Delta}{8 \\sigma^{2} c^{2}} + i k\\right)}}{a}$"
      ],
      "text/plain": [
       "<IPython.core.display.Math object>"
      ]
     },
     "metadata": {},
     "output_type": "display_data"
    }
   ],
   "source": [
    "G_1_TAU = (smp.integrate(smp.conjugate(E_1)*E_2, (t, -smp.oo, smp.oo))).simplify()\n",
    "display(Math(r'G(\\Delta) = ' + smp.latex(G_1_TAU)))\n",
    "G_1_ZERO = smp.integrate(smp.conjugate(E_1)*E_1, (t, -smp.oo, smp.oo))\n",
    "display(Math(r'G(0) = ' + smp.latex(G_1_ZERO.simplify())))\n",
    "\n",
    "g_1 = (G_1_TAU/G_1_ZERO).simplify()\n",
    "display(Math(r'g^{(1)}(\\Delta) = ' + smp.latex(g_1)))"
   ]
  },
  {
   "cell_type": "code",
   "execution_count": 73,
   "metadata": {},
   "outputs": [
    {
     "data": {
      "text/latex": [
       "$\\displaystyle V=\\frac{2 b \\sqrt{a \\overline{a}} \\sqrt{b \\overline{b}} e^{\\frac{- \\Delta \\left(\\Delta - 8 i \\sigma^{2} c^{2} k\\right) + 2 \\left(c t - z\\right)^{2} + 2 \\left(- \\Delta + c t - z\\right)^{2}}{8 \\sigma^{2} c^{2}}}}{a \\left(a e^{\\frac{\\left(- \\Delta + c t - z\\right)^{2}}{2 \\sigma^{2} c^{2}}} \\overline{a} + b e^{\\frac{\\left(c t - z\\right)^{2}}{2 \\sigma^{2} c^{2}}} \\overline{b}\\right)}$"
      ],
      "text/plain": [
       "<IPython.core.display.Math object>"
      ]
     },
     "metadata": {},
     "output_type": "display_data"
    }
   ],
   "source": [
    "I_1 = (smp.conjugate(E_1)*E_1)\n",
    "I_2 = (smp.conjugate(E_2)*E_2)\n",
    "\n",
    "V = ((2*smp.sqrt(I_1)*smp.sqrt(I_2))/(I_1+I_2))*(g_1)\n",
    "display(Math(r'V='+smp.latex(V.simplify().doit())))"
   ]
  },
  {
   "cell_type": "code",
   "execution_count": 74,
   "metadata": {},
   "outputs": [
    {
     "data": {
      "text/latex": [
       "$\\displaystyle S(k) = b \\mathcal{F}_{z}\\left[1\\right]\\left(k\\right) e^{\\Delta \\left(- \\frac{\\Delta}{8 \\sigma^{2} c^{2}} + i k\\right)} \\overline{a}$"
      ],
      "text/plain": [
       "<IPython.core.display.Math object>"
      ]
     },
     "metadata": {},
     "output_type": "display_data"
    }
   ],
   "source": [
    "l = smp.symbols(r'\\lambda', real=True, constante=True, positive=True)\n",
    "#G_1_TAU=G_1_TAU.subs(k, 2*smp.pi/l)\n",
    "\n",
    "smp.fourier_transform(G_1_TAU, delta_D, k)\n",
    "#using the autocorrelation function\n",
    "S = smp.fourier_transform(G_1_TAU, z, k)\n",
    "display(Math(r'S(k) = ' + smp.latex(S.doit().simplify())))"
   ]
  },
  {
   "cell_type": "code",
   "execution_count": null,
   "metadata": {},
   "outputs": [],
   "source": []
  }
 ],
 "metadata": {
  "kernelspec": {
   "display_name": "Python 3",
   "language": "python",
   "name": "python3"
  },
  "language_info": {
   "codemirror_mode": {
    "name": "ipython",
    "version": 3
   },
   "file_extension": ".py",
   "mimetype": "text/x-python",
   "name": "python",
   "nbconvert_exporter": "python",
   "pygments_lexer": "ipython3",
   "version": "3.11.4"
  },
  "orig_nbformat": 4
 },
 "nbformat": 4,
 "nbformat_minor": 2
}
