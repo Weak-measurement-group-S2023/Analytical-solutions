{
 "cells": [
  {
   "cell_type": "code",
   "execution_count": 37,
   "metadata": {},
   "outputs": [],
   "source": [
    "import sympy as smp\n",
    "from IPython.display import display, Math"
   ]
  },
  {
   "cell_type": "code",
   "execution_count": 38,
   "metadata": {},
   "outputs": [],
   "source": [
    "a = smp.symbols('a', real=False, complex = True)\n",
    "t = smp.symbols('t', real=True)\n",
    "o = smp.symbols(r'\\sigma', real=True, positive = True)\n",
    "b = smp.symbols('b', real=False, complex = True)\n",
    "d = smp.symbols(r'\\delta', real=True)\n",
    "z = smp.symbols('z', real=True)\n",
    "k = smp.symbols('k', real=True, positive=True)\n",
    "w = smp.symbols(r'\\omega', real=True, positive=True)\n",
    "tau = smp.symbols(r'\\tau', real=True)\n",
    "u = smp.symbols(r'\\mu', complex=True, real=False)\n",
    "v = smp.symbols(r'\\nu', complex=True, real=False)\n",
    "c = smp.symbols('c', real=True, positive=True, constant=True)"
   ]
  },
  {
   "cell_type": "code",
   "execution_count": 39,
   "metadata": {},
   "outputs": [
    {
     "data": {
      "text/latex": [
       "$\\displaystyle A(t) = \\frac{2^{\\frac{3}{4}} e^{- \\frac{\\left(t - \\frac{z}{c}\\right)^{2}}{4 \\sigma^{2}}}}{2 \\sqrt[4]{\\pi} \\sqrt{\\sigma}}$"
      ],
      "text/plain": [
       "<IPython.core.display.Math object>"
      ]
     },
     "metadata": {},
     "output_type": "display_data"
    },
    {
     "data": {
      "text/latex": [
       "$\\displaystyle |\\xi_1(z,t)> = \\frac{2^{\\frac{3}{4}} e^{i \\left(- \\omega t + k z\\right)} e^{- \\frac{\\left(t - \\frac{z}{c}\\right)^{2}}{4 \\sigma^{2}}}}{2 \\sqrt[4]{\\pi} \\sqrt{\\sigma}}$"
      ],
      "text/plain": [
       "<IPython.core.display.Math object>"
      ]
     },
     "metadata": {},
     "output_type": "display_data"
    },
    {
     "data": {
      "text/latex": [
       "$\\displaystyle A(t) = \\frac{2^{\\frac{3}{4}} e^{- \\frac{\\left(t - \\frac{z}{c}\\right)^{2}}{4 \\sigma^{2}}}}{2 \\sqrt[4]{\\pi} \\sqrt{\\sigma}}$"
      ],
      "text/plain": [
       "<IPython.core.display.Math object>"
      ]
     },
     "metadata": {},
     "output_type": "display_data"
    },
    {
     "data": {
      "text/latex": [
       "$\\displaystyle |\\xi_2(z,t+\\tau)> = \\frac{2^{\\frac{3}{4}} e^{i \\left(- \\omega \\left(\\tau + t\\right) + k z\\right)} e^{- \\frac{\\left(\\tau + t - \\frac{z}{c}\\right)^{2}}{4 \\sigma^{2}}}}{2 \\sqrt[4]{\\pi} \\sqrt{\\sigma}}$"
      ],
      "text/plain": [
       "<IPython.core.display.Math object>"
      ]
     },
     "metadata": {},
     "output_type": "display_data"
    },
    {
     "data": {
      "text/latex": [
       "$\\displaystyle |\\xi(z,t+\\tau)> = \\frac{\\sqrt{2} \\cdot \\left(\\frac{2^{\\frac{3}{4}} e^{i \\left(- \\omega t + k z\\right)} e^{- \\frac{\\left(t - \\frac{z}{c}\\right)^{2}}{4 \\sigma^{2}}}}{2 \\sqrt[4]{\\pi} \\sqrt{\\sigma}} + \\frac{2^{\\frac{3}{4}} e^{i \\left(- \\omega \\left(\\tau + t\\right) + k z\\right)} e^{- \\frac{\\left(\\tau + t - \\frac{z}{c}\\right)^{2}}{4 \\sigma^{2}}}}{2 \\sqrt[4]{\\pi} \\sqrt{\\sigma}}\\right)}{2}$"
      ],
      "text/plain": [
       "<IPython.core.display.Math object>"
      ]
     },
     "metadata": {},
     "output_type": "display_data"
    }
   ],
   "source": [
    "A = (smp.sqrt(1/((smp.sqrt(2*smp.pi))*o)))*smp.exp(-((t-z/c)**2)/(4*o**2))\n",
    "display(Math('A(t) = '+smp.latex(A)))\n",
    "\n",
    "xi_1 = A*smp.exp(smp.I*(k*(z) - w*t))\n",
    "display(Math(r'|\\xi_1(z,t)> = '+smp.latex(xi_1)))\n",
    "\n",
    "A_f = (smp.sqrt(1/((smp.sqrt(2*smp.pi))*o)))*smp.exp(-(((t+tau) -(z)/c)**2)/(4*o**2))\n",
    "display(Math('A(t) = '+smp.latex(A)))\n",
    "\n",
    "xi_2 = A_f*smp.exp(smp.I*(k*(z) - w*(t+tau)))\n",
    "display(Math(r'|\\xi_2(z,t+\\tau)> = '+smp.latex(xi_2)))\n",
    "\n",
    "xi_t = (1/smp.sqrt(2))*(xi_1+xi_2)\n",
    "display(Math(r'|\\xi(z,t+\\tau)> = '+smp.latex(xi_t)))"
   ]
  },
  {
   "cell_type": "code",
   "execution_count": 40,
   "metadata": {},
   "outputs": [
    {
     "data": {
      "text/latex": [
       "$\\displaystyle <T> =- \\frac{\\tau e^{- i \\omega \\tau - \\frac{\\tau^{2}}{8 \\sigma^{2}}}}{4} - \\frac{\\tau e^{i \\omega \\tau - \\frac{\\tau^{2}}{8 \\sigma^{2}}}}{4} - \\frac{\\tau}{2} + \\frac{z e^{- i \\omega \\tau - \\frac{\\tau^{2}}{8 \\sigma^{2}}}}{2 c} + \\frac{z e^{i \\omega \\tau - \\frac{\\tau^{2}}{8 \\sigma^{2}}}}{2 c} + \\frac{z}{c}$"
      ],
      "text/plain": [
       "<IPython.core.display.Math object>"
      ]
     },
     "metadata": {},
     "output_type": "display_data"
    }
   ],
   "source": [
    "T = smp.integrate(smp.conjugate(xi_t)*t*xi_t, (t, -smp.oo, smp.oo))\n",
    "display(Math(r'<T> ='+smp.latex(T.simplify())))"
   ]
  },
  {
   "cell_type": "code",
   "execution_count": 41,
   "metadata": {},
   "outputs": [
    {
     "data": {
      "text/latex": [
       "$\\displaystyle \\frac{2^{\\frac{3}{4}} \\hat{U} a e^{i \\left(- \\omega t + k z\\right)} e^{- \\frac{\\left(t - \\frac{z}{c}\\right)^{2}}{4 \\sigma^{2}}}}{2 \\sqrt[4]{\\pi} \\sqrt{\\sigma}} = \\frac{2^{\\frac{3}{4}} a e^{i \\left(- \\omega \\left(\\tau + t\\right) + k z\\right)} e^{- \\frac{\\left(\\tau + t - \\frac{z}{c}\\right)^{2}}{4 \\sigma^{2}}}}{2 \\sqrt[4]{\\pi} \\sqrt{\\sigma}}$"
      ],
      "text/plain": [
       "<IPython.core.display.Math object>"
      ]
     },
     "metadata": {},
     "output_type": "display_data"
    },
    {
     "data": {
      "text/latex": [
       "$\\displaystyle \\hat{U} = e^{\\frac{- 4 i \\omega \\sigma^{2} \\tau c^{2} + \\left(c t - z\\right)^{2} - \\left(c \\left(\\tau + t\\right) - z\\right)^{2}}{4 \\sigma^{2} c^{2}}}$"
      ],
      "text/plain": [
       "<IPython.core.display.Math object>"
      ]
     },
     "metadata": {},
     "output_type": "display_data"
    },
    {
     "data": {
      "text/latex": [
       "$\\displaystyle |E_{f}(z,t)> = <D|\\hat{U}|E_{i}(z,t)> = \\frac{\\sqrt{2} \\cdot \\left(\\frac{2^{\\frac{3}{4}} e^{i \\left(- \\omega t + k z\\right)} e^{- \\frac{\\left(t - \\frac{z}{c}\\right)^{2}}{4 \\sigma^{2}}}}{2 \\sqrt[4]{\\pi} \\sqrt{\\sigma}} + \\frac{2^{\\frac{3}{4}} e^{i \\left(- \\omega \\left(\\tau + t\\right) + k z\\right)} e^{- \\frac{\\left(\\tau + t - \\frac{z}{c}\\right)^{2}}{4 \\sigma^{2}}}}{2 \\sqrt[4]{\\pi} \\sqrt{\\sigma}}\\right)}{2}$"
      ],
      "text/plain": [
       "<IPython.core.display.Math object>"
      ]
     },
     "metadata": {},
     "output_type": "display_data"
    }
   ],
   "source": [
    "#résourd l'opérateur d'interaction\n",
    "U = smp.symbols(r'\\hat{U}')\n",
    "eq1 = smp.Eq(U*xi_1*a, xi_2*a)\n",
    "display(Math(smp.latex(eq1)))\n",
    "eq2 = smp.solve(eq1, U)\n",
    "U = eq2[0].simplify()\n",
    "display(Math(r'\\hat{U} = ' + smp.latex(U)))\n",
    "\n",
    "#postselection sur D = 1/sqrt(2)*(H_faible + V)\n",
    "E_w = ((1/smp.sqrt(2))*(xi_1 + xi_2))\n",
    "#mesure faible sur H\n",
    "display(Math(r'|E_{f}(z,t)> = <D|\\hat{U}|E_{i}(z,t)> = ' + smp.latex(E_w)))"
   ]
  },
  {
   "cell_type": "code",
   "execution_count": 45,
   "metadata": {},
   "outputs": [
    {
     "data": {
      "text/latex": [
       "$\\displaystyle e^{\\frac{- 4 i \\omega \\sigma^{2} \\tau c^{2} + \\left(c t - z\\right)^{2} - \\left(c \\left(\\tau + t\\right) - z\\right)^{2}}{4 \\sigma^{2} c^{2}}} = e^{- i \\hat{A}_W \\omega \\tau}$"
      ],
      "text/plain": [
       "<IPython.core.display.Math object>"
      ]
     },
     "metadata": {},
     "output_type": "display_data"
    },
    {
     "data": {
      "text/latex": [
       "$\\displaystyle \\hat{A}_w =- \\frac{i \\log{\\left(e^{\\frac{\\tau \\left(4 i \\omega \\sigma^{2} c + \\tau c + 2 c t - 2 z\\right)}{4 \\sigma^{2} c}} \\right)}}{\\omega \\tau}$"
      ],
      "text/plain": [
       "<IPython.core.display.Math object>"
      ]
     },
     "metadata": {},
     "output_type": "display_data"
    }
   ],
   "source": [
    "d = tau\n",
    "A_w = smp.symbols(r'\\hat{A}_W', complex=True)\n",
    "eq3 = smp.Eq(U, smp.exp(-smp.I*d*A_w*w))\n",
    "display(Math(smp.latex(eq3)))\n",
    "\n",
    "eq4 = smp.solve(eq3, A_w)\n",
    "Aw = eq4[0].simplify().doit()\n",
    "display(Math(r'\\hat{A}_w ='+smp.latex(Aw)))"
   ]
  },
  {
   "cell_type": "code",
   "execution_count": null,
   "metadata": {},
   "outputs": [],
   "source": []
  }
 ],
 "metadata": {
  "kernelspec": {
   "display_name": "Python 3",
   "language": "python",
   "name": "python3"
  },
  "language_info": {
   "codemirror_mode": {
    "name": "ipython",
    "version": 3
   },
   "file_extension": ".py",
   "mimetype": "text/x-python",
   "name": "python",
   "nbconvert_exporter": "python",
   "pygments_lexer": "ipython3",
   "version": "3.11.4"
  },
  "orig_nbformat": 4
 },
 "nbformat": 4,
 "nbformat_minor": 2
}
