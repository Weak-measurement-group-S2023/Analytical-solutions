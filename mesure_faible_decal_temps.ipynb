{
 "cells": [
  {
   "cell_type": "code",
   "execution_count": 1,
   "metadata": {},
   "outputs": [],
   "source": [
    "#sympy pour effectuer les calculs\n",
    "import sympy as smp\n",
    "from IPython.display import display, Math"
   ]
  },
  {
   "cell_type": "code",
   "execution_count": 2,
   "metadata": {},
   "outputs": [],
   "source": [
    "a = smp.symbols('a', real=False, complex = True)\n",
    "t = smp.symbols('t', real=True)\n",
    "o = smp.symbols(r'\\sigma', real=True, positive = True)\n",
    "b = smp.symbols('b', real=False, complex = True)\n",
    "d = smp.symbols(r'\\delta', real=True)\n",
    "z = smp.symbols('z', real=True)\n",
    "k = smp.symbols('k', real=True, positive=True)\n",
    "w = smp.symbols(r'\\omega', real=True, positive=True)\n",
    "tau = smp.symbols(r'\\tau', real=True)\n",
    "c = smp.symbols('c', real=True, positive=True, constant=True)\n",
    "#delta_D = smp.symbols(r'\\Delta', real=True)"
   ]
  },
  {
   "cell_type": "code",
   "execution_count": 3,
   "metadata": {},
   "outputs": [
    {
     "data": {
      "text/latex": [
       "$\\displaystyle |\\varphi(\\theta, \\phi)> = a |H> + b |V>$"
      ],
      "text/plain": [
       "<IPython.core.display.Math object>"
      ]
     },
     "metadata": {},
     "output_type": "display_data"
    },
    {
     "data": {
      "text/latex": [
       "$\\displaystyle |\\Psi> = |\\varphi(\\theta, \\phi)> \\otimes |\\xi(z,t)>$"
      ],
      "text/plain": [
       "<IPython.core.display.Math object>"
      ]
     },
     "metadata": {},
     "output_type": "display_data"
    }
   ],
   "source": [
    "#intiallement\n",
    "phi = a + b\n",
    "H = smp.symbols('|H>')\n",
    "V = smp.symbols('|V>')\n",
    "display(Math(r'|\\varphi(\\theta, \\phi)> = ' +smp.latex(a*H + b*V)))\n",
    "display(Math(r'|\\Psi> = |\\varphi(\\theta, \\phi)> \\otimes |\\xi(z,t)>'))"
   ]
  },
  {
   "cell_type": "code",
   "execution_count": 4,
   "metadata": {},
   "outputs": [
    {
     "data": {
      "text/latex": [
       "$\\displaystyle |\\xi_1(z,t)> = \\frac{2^{\\frac{3}{4}} e^{i \\left(- \\omega t + k z\\right)} e^{- \\frac{\\left(t - \\frac{z}{c}\\right)^{2}}{4 \\sigma^{2}}}}{2 \\sqrt[4]{\\pi} \\sqrt{\\sigma}}$"
      ],
      "text/plain": [
       "<IPython.core.display.Math object>"
      ]
     },
     "metadata": {},
     "output_type": "display_data"
    },
    {
     "data": {
      "text/latex": [
       "$\\displaystyle |\\xi_2(z,t+\\tau)> = \\frac{2^{\\frac{3}{4}} e^{i \\left(- \\omega t + k z\\right)} e^{- \\frac{\\left(\\tau + t\\right)^{2}}{4 \\sigma^{2}}}}{2 \\sqrt[4]{\\pi} \\sqrt{\\sigma}}$"
      ],
      "text/plain": [
       "<IPython.core.display.Math object>"
      ]
     },
     "metadata": {},
     "output_type": "display_data"
    },
    {
     "data": {
      "text/latex": [
       "$\\displaystyle |\\xi(z,t+\\tau)> = \\frac{\\sqrt{2} \\cdot \\left(\\frac{2^{\\frac{3}{4}} a e^{i \\left(- \\omega t + k z\\right)} e^{- \\frac{\\left(t - \\frac{z}{c}\\right)^{2}}{4 \\sigma^{2}}}}{2 \\sqrt[4]{\\pi} \\sqrt{\\sigma}} + \\frac{2^{\\frac{3}{4}} b e^{i \\left(- \\omega t + k z\\right)} e^{- \\frac{\\left(\\tau + t\\right)^{2}}{4 \\sigma^{2}}}}{2 \\sqrt[4]{\\pi} \\sqrt{\\sigma}}\\right)}{2}$"
      ],
      "text/plain": [
       "<IPython.core.display.Math object>"
      ]
     },
     "metadata": {},
     "output_type": "display_data"
    },
    {
     "data": {
      "text/latex": [
       "$\\displaystyle <T> =- \\frac{\\tau a e^{- \\frac{\\tau^{2}}{8 \\sigma^{2}} - \\frac{\\tau z}{4 \\sigma^{2} c} - \\frac{z^{2}}{8 \\sigma^{2} c^{2}}} \\overline{b}}{4} - \\frac{\\tau b e^{- \\frac{\\tau^{2}}{8 \\sigma^{2}} - \\frac{\\tau z}{4 \\sigma^{2} c} - \\frac{z^{2}}{8 \\sigma^{2} c^{2}}} \\overline{a}}{4} - \\frac{\\tau b \\overline{b}}{2} + \\frac{a z e^{- \\frac{\\tau^{2}}{8 \\sigma^{2}} - \\frac{\\tau z}{4 \\sigma^{2} c} - \\frac{z^{2}}{8 \\sigma^{2} c^{2}}} \\overline{b}}{4 c} + \\frac{a z \\overline{a}}{2 c} + \\frac{b z e^{- \\frac{\\tau^{2}}{8 \\sigma^{2}} - \\frac{\\tau z}{4 \\sigma^{2} c} - \\frac{z^{2}}{8 \\sigma^{2} c^{2}}} \\overline{a}}{4 c}$"
      ],
      "text/plain": [
       "<IPython.core.display.Math object>"
      ]
     },
     "metadata": {},
     "output_type": "display_data"
    },
    {
     "data": {
      "text/latex": [
       "$\\displaystyle <T> =- \\frac{\\tau a e^{- \\frac{r}{8} - \\frac{\\tau z}{4 \\sigma^{2} c} - \\frac{z^{2}}{8 \\sigma^{2} c^{2}}} \\overline{b}}{4} - \\frac{\\tau b e^{- \\frac{r}{8} - \\frac{\\tau z}{4 \\sigma^{2} c} - \\frac{z^{2}}{8 \\sigma^{2} c^{2}}} \\overline{a}}{4} - \\frac{\\tau b \\overline{b}}{2} + \\frac{a z e^{- \\frac{r}{8} - \\frac{\\tau z}{4 \\sigma^{2} c} - \\frac{z^{2}}{8 \\sigma^{2} c^{2}}} \\overline{b}}{4 c} + \\frac{a z \\overline{a}}{2 c} + \\frac{b z e^{- \\frac{r}{8} - \\frac{\\tau z}{4 \\sigma^{2} c} - \\frac{z^{2}}{8 \\sigma^{2} c^{2}}} \\overline{a}}{4 c}$"
      ],
      "text/plain": [
       "<IPython.core.display.Math object>"
      ]
     },
     "metadata": {},
     "output_type": "display_data"
    }
   ],
   "source": [
    "A = (smp.sqrt(1/((smp.sqrt(2*smp.pi))*o)))*smp.exp(-((t -z/c)**2)/(4*o**2))\n",
    "A_f = (smp.sqrt(1/((smp.sqrt(2*smp.pi))*o)))*smp.exp(-(((t+tau))**2)/(4*o**2))\n",
    "E_prop = smp.exp(smp.I*(k*(z) - w*t))\n",
    "\n",
    "xi_1 = A*E_prop\n",
    "display(Math(r'|\\xi_1(z,t)> = '+smp.latex(xi_1)))\n",
    "\n",
    "xi_2 = A_f*E_prop\n",
    "display(Math(r'|\\xi_2(z,t+\\tau)> = '+smp.latex(xi_2)))\n",
    "\n",
    "xi_t = (1/smp.sqrt(2))*(a*xi_1+b*xi_2)\n",
    "display(Math(r'|\\xi(z,t+\\tau)> = '+smp.latex(xi_t)))\n",
    "\n",
    "T = (smp.integrate(smp.conjugate(xi_t)*t*xi_t, (t, -smp.oo, smp.oo)))\n",
    "display(Math(r'<T> ='+smp.latex(T.simplify())))\n",
    "r = smp.symbols('r')\n",
    "T.subs(tau**2/o**2, r)\n",
    "#T_limit = smp.limit(T, tau/o, 0)\n",
    "display(Math(r'<T> ='+smp.latex(T.simplify().subs(tau**2/o**2, r))))\n"
   ]
  },
  {
   "cell_type": "code",
   "execution_count": 5,
   "metadata": {},
   "outputs": [
    {
     "data": {
      "text/latex": [
       "$\\displaystyle S(f) = \\frac{\\sqrt[4]{2} \\sqrt[4]{\\pi} \\sqrt{\\sigma} \\left(- 64 i \\pi^{2} \\sigma^{4} a c f^{2} - 64 i \\pi^{2} \\sigma^{4} b c f^{2} e^{4 i \\pi f \\left(\\tau + \\frac{z}{c}\\right)} - 8 \\pi \\sigma^{2} \\tau a c f - 8 \\pi \\sigma^{2} \\tau b c f e^{4 i \\pi f \\left(\\tau + \\frac{z}{c}\\right)} + 8 \\pi \\sigma^{2} a f z + 8 \\pi \\sigma^{2} b f z e^{4 i \\pi f \\left(\\tau + \\frac{z}{c}\\right)} - i \\tau a z - i \\tau b z e^{4 i \\pi f \\left(\\tau + \\frac{z}{c}\\right)}\\right) e^{- 16 \\pi^{2} \\sigma^{2} f^{2} + i k z - \\frac{4 i \\pi f z}{c}}}{- 64 i \\pi^{2} \\sigma^{4} c f^{2} - 8 \\pi \\sigma^{2} \\tau c f + 8 \\pi \\sigma^{2} f z - i \\tau z}$"
      ],
      "text/plain": [
       "<IPython.core.display.Math object>"
      ]
     },
     "metadata": {},
     "output_type": "display_data"
    }
   ],
   "source": [
    "f = smp.symbols('f', real=True, constante=True, positive=True)\n",
    "xi_t=xi_t.subs(w, 2*smp.pi*f)\n",
    "#using the autocorrelation function\n",
    "S = (smp.integrate(xi_t*smp.exp(-smp.I*2*smp.pi*f*t), (t, -smp.oo, smp.oo)))\n",
    "display(Math(r'S(f) = ' + smp.latex(S.simplify())))"
   ]
  },
  {
   "cell_type": "code",
   "execution_count": 6,
   "metadata": {},
   "outputs": [],
   "source": [
    "w_moy = (smp.integrate(smp.conjugate(S)*f*S, (f, 0, smp.oo))).simplify()\n",
    "display(Math(r'<\\hat{\\Omega}> = <S(\\omega)|\\hat{f}|S(\\omega)> =' +smp.latex(w_moy)))"
   ]
  }
 ],
 "metadata": {
  "kernelspec": {
   "display_name": "Python 3",
   "language": "python",
   "name": "python3"
  },
  "language_info": {
   "codemirror_mode": {
    "name": "ipython",
    "version": 3
   },
   "file_extension": ".py",
   "mimetype": "text/x-python",
   "name": "python",
   "nbconvert_exporter": "python",
   "pygments_lexer": "ipython3",
   "version": "3.11.4"
  },
  "orig_nbformat": 4
 },
 "nbformat": 4,
 "nbformat_minor": 2
}
