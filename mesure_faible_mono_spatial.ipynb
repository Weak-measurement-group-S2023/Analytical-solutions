{
 "cells": [
  {
   "cell_type": "code",
   "execution_count": 76,
   "metadata": {},
   "outputs": [],
   "source": [
    "import sympy as smp\n",
    "from IPython.display import display, Math"
   ]
  },
  {
   "cell_type": "code",
   "execution_count": 77,
   "metadata": {},
   "outputs": [],
   "source": [
    "a = smp.symbols('a', real=False, complex = True)\n",
    "t = smp.symbols('t', real=True)\n",
    "o = smp.symbols(r'\\sigma', real=True, positive = True)\n",
    "b = smp.symbols('b', real=False, complex = True)\n",
    "d = smp.symbols(r'\\delta', real=True)\n",
    "z = smp.symbols('z', real=True)\n",
    "k = smp.symbols('k', real=True, positive=True)\n",
    "w = smp.symbols(r'\\omega', real=True, positive=True)\n",
    "tau = smp.symbols(r'\\tau', real=True)\n",
    "c = smp.symbols('c', real=True, positive=True, constant=True)\n",
    "delta_D = smp.symbols(r'\\Delta', real=True)"
   ]
  },
  {
   "cell_type": "code",
   "execution_count": 78,
   "metadata": {},
   "outputs": [
    {
     "data": {
      "text/latex": [
       "$\\displaystyle E_{i}(z+\\Delta,t) = E_{0} e^{i \\left(- \\omega t + k z\\right)}$"
      ],
      "text/plain": [
       "<IPython.core.display.Math object>"
      ]
     },
     "metadata": {},
     "output_type": "display_data"
    },
    {
     "data": {
      "text/latex": [
       "$\\displaystyle E_{f}(z+\\Delta,t) = \\frac{\\sqrt{2} \\left(E_{0} e^{i \\left(- \\omega t + k z\\right)} + E_{0} e^{i \\left(- \\omega t + k \\left(\\Delta + z\\right)\\right)}\\right)}{2}$"
      ],
      "text/plain": [
       "<IPython.core.display.Math object>"
      ]
     },
     "metadata": {},
     "output_type": "display_data"
    },
    {
     "data": {
      "text/latex": [
       "$\\displaystyle |E_{1}(z,t)> = E_{0} a e^{i \\left(- \\omega t + k z\\right)}$"
      ],
      "text/plain": [
       "<IPython.core.display.Math object>"
      ]
     },
     "metadata": {},
     "output_type": "display_data"
    },
    {
     "data": {
      "text/latex": [
       "$\\displaystyle |E_{2}(z+\\Delta,t)> = E_{0} b e^{i \\left(- \\omega t + k \\left(\\Delta + z\\right)\\right)}$"
      ],
      "text/plain": [
       "<IPython.core.display.Math object>"
      ]
     },
     "metadata": {},
     "output_type": "display_data"
    },
    {
     "data": {
      "text/latex": [
       "$\\displaystyle E_{0} \\hat{U} a e^{i \\left(- \\omega t + k z\\right)} = E_{0} a e^{i \\left(- \\omega t + k \\left(\\Delta + z\\right)\\right)}$"
      ],
      "text/plain": [
       "<IPython.core.display.Math object>"
      ]
     },
     "metadata": {},
     "output_type": "display_data"
    },
    {
     "data": {
      "text/latex": [
       "$\\displaystyle \\hat{U} = e^{i \\Delta k}$"
      ],
      "text/plain": [
       "<IPython.core.display.Math object>"
      ]
     },
     "metadata": {},
     "output_type": "display_data"
    },
    {
     "data": {
      "text/latex": [
       "$\\displaystyle |E_{f}(z,t)> = <D|\\hat{U}|E_{i}(z,t)> = \\frac{\\sqrt{2} \\left(E_{0} a e^{i \\left(- \\omega t + k z\\right)} + E_{0} b e^{i \\left(- \\omega t + k \\left(\\Delta + z\\right)\\right)}\\right)}{2}$"
      ],
      "text/plain": [
       "<IPython.core.display.Math object>"
      ]
     },
     "metadata": {},
     "output_type": "display_data"
    }
   ],
   "source": [
    "E_0 = smp.symbols(r'E_0', real=True)\n",
    "delta_D = smp.symbols(r'\\Delta', real=True, positive=True)\n",
    "xi_1 = E_0*smp.exp(smp.I*(k*z - w*t))\n",
    "xi_2 = E_0*smp.exp(smp.I*(k*(z+delta_D) - w*t))\n",
    "\n",
    "E_i = (xi_1+xi_1)/2\n",
    "display(Math(r'E_{i}(z+\\Delta,t) = '+smp.latex(E_i)))\n",
    "\n",
    "E_f = (xi_1+xi_2)/smp.sqrt(2)\n",
    "display(Math(r'E_{f}(z+\\Delta,t) = '+smp.latex(E_f)))\n",
    "\n",
    "E_1 = xi_1*a #celui faible\n",
    "E_2 = xi_2*b\n",
    "display(Math(r'|E_{1}(z,t)> = '+smp.latex(E_1)))\n",
    "display(Math(r'|E_{2}(z+\\Delta,t)> = '+smp.latex(E_2)))\n",
    "\n",
    "#résourd l'opérateur d'interaction\n",
    "U = smp.symbols(r'\\hat{U}')\n",
    "eq1 = smp.Eq(U*E_1, a*E_2/b)\n",
    "display(Math(smp.latex(eq1)))\n",
    "eq2 = smp.solve(eq1, U)\n",
    "U = eq2[0].simplify()\n",
    "display(Math(r'\\hat{U} = ' + smp.latex(U)))\n",
    "\n",
    "#postselection sur D = 1/sqrt(2)*(H_faible + V)\n",
    "E_w = ((1/smp.sqrt(2))*(E_1 + E_2))\n",
    "#mesure faible sur H\n",
    "display(Math(r'|E_{f}(z,t)> = <D|\\hat{U}|E_{i}(z,t)> = ' + smp.latex(E_w)))"
   ]
  },
  {
   "cell_type": "code",
   "execution_count": 79,
   "metadata": {},
   "outputs": [
    {
     "data": {
      "text/latex": [
       "$\\displaystyle I(z+\\Delta,t) =\\frac{E_{0}^{2} \\left(\\cos{\\left(\\Delta k \\right)} + 1\\right)}{2}$"
      ],
      "text/plain": [
       "<IPython.core.display.Math object>"
      ]
     },
     "metadata": {},
     "output_type": "display_data"
    }
   ],
   "source": [
    "I_d = smp.re(smp.conjugate(E_f)*E_f)/2\n",
    "display(Math(r'I(z+\\Delta,t) ='+smp.latex(I_d.simplify())))"
   ]
  },
  {
   "cell_type": "code",
   "execution_count": 80,
   "metadata": {},
   "outputs": [
    {
     "data": {
      "text/latex": [
       "$\\displaystyle I(z+\\Delta,t) =\\frac{E_{0}^{2} \\left(\\operatorname{re}{\\left(a e^{- i \\Delta k} \\overline{b}\\right)} + \\operatorname{re}{\\left(b e^{i \\Delta k} \\overline{a}\\right)} + \\left|{a}\\right|^{2} + \\left|{b}\\right|^{2}\\right)}{4}$"
      ],
      "text/plain": [
       "<IPython.core.display.Math object>"
      ]
     },
     "metadata": {},
     "output_type": "display_data"
    }
   ],
   "source": [
    "I_pol = smp.re(smp.conjugate(E_w)*E_w)/2\n",
    "display(Math(r'I(z+\\Delta,t) ='+smp.latex(I_pol.simplify())))"
   ]
  },
  {
   "cell_type": "code",
   "execution_count": 81,
   "metadata": {},
   "outputs": [
    {
     "data": {
      "text/latex": [
       "$\\displaystyle G(\\tau) = E_{0}^{2} b e^{- i \\left(- \\omega t + k z\\right)} e^{i \\left(- \\omega t + k \\left(\\Delta + z\\right)\\right)} \\overline{a}$"
      ],
      "text/plain": [
       "<IPython.core.display.Math object>"
      ]
     },
     "metadata": {},
     "output_type": "display_data"
    },
    {
     "data": {
      "text/latex": [
       "$\\displaystyle G(0) = E_{0}^{2} a \\overline{a}$"
      ],
      "text/plain": [
       "<IPython.core.display.Math object>"
      ]
     },
     "metadata": {},
     "output_type": "display_data"
    },
    {
     "data": {
      "text/latex": [
       "$\\displaystyle g^{(1)}(\\tau) = \\frac{b e^{i \\Delta k}}{a}$"
      ],
      "text/plain": [
       "<IPython.core.display.Math object>"
      ]
     },
     "metadata": {},
     "output_type": "display_data"
    }
   ],
   "source": [
    "G_1_TAU = smp.conjugate(E_1)*E_2\n",
    "display(Math(r'G(\\tau) = ' + smp.latex(G_1_TAU)))\n",
    "G_1_ZERO = smp.conjugate(E_1)*E_1\n",
    "display(Math(r'G(0) = ' + smp.latex(G_1_ZERO.simplify())))\n",
    "\n",
    "g_1 = (G_1_TAU/G_1_ZERO).simplify()\n",
    "display(Math(r'g^{(1)}(\\tau) = ' + smp.latex(g_1)))"
   ]
  },
  {
   "cell_type": "code",
   "execution_count": 82,
   "metadata": {},
   "outputs": [
    {
     "data": {
      "text/latex": [
       "$\\displaystyle V=\\frac{2 b \\sqrt{a \\overline{a}} \\sqrt{b \\overline{b}} e^{i \\Delta k}}{a \\left(a \\overline{a} + b \\overline{b}\\right)}$"
      ],
      "text/plain": [
       "<IPython.core.display.Math object>"
      ]
     },
     "metadata": {},
     "output_type": "display_data"
    }
   ],
   "source": [
    "I_1 = (smp.conjugate(E_1)*E_1)\n",
    "I_2 = (smp.conjugate(E_2)*E_2)\n",
    "\n",
    "V = ((2*smp.sqrt(I_1)*smp.sqrt(I_2))/(I_1+I_2))*(g_1)\n",
    "display(Math(r'V='+smp.latex(V.simplify().doit())))"
   ]
  },
  {
   "cell_type": "code",
   "execution_count": 84,
   "metadata": {},
   "outputs": [
    {
     "data": {
      "text/latex": [
       "$\\displaystyle S(k) = E_{0}^{2} b \\mathcal{F}_{z}\\left[1\\right]\\left(k\\right) e^{i \\Delta k} \\overline{a}$"
      ],
      "text/plain": [
       "<IPython.core.display.Math object>"
      ]
     },
     "metadata": {},
     "output_type": "display_data"
    }
   ],
   "source": [
    "l = smp.symbols(r'\\lambda', real=True, constante=True, positive=True)\n",
    "#G_1_TAU=G_1_TAU.subs(k, 2*smp.pi/l)\n",
    "\n",
    "smp.fourier_transform(G_1_TAU, delta_D, k)\n",
    "#using the autocorrelation function\n",
    "S = smp.fourier_transform(G_1_TAU, z, k)\n",
    "display(Math(r'S(k) = ' + smp.latex(S.doit().simplify())))"
   ]
  },
  {
   "cell_type": "code",
   "execution_count": null,
   "metadata": {},
   "outputs": [],
   "source": []
  }
 ],
 "metadata": {
  "kernelspec": {
   "display_name": "Python 3",
   "language": "python",
   "name": "python3"
  },
  "language_info": {
   "codemirror_mode": {
    "name": "ipython",
    "version": 3
   },
   "file_extension": ".py",
   "mimetype": "text/x-python",
   "name": "python",
   "nbconvert_exporter": "python",
   "pygments_lexer": "ipython3",
   "version": "3.11.4"
  },
  "orig_nbformat": 4
 },
 "nbformat": 4,
 "nbformat_minor": 2
}
