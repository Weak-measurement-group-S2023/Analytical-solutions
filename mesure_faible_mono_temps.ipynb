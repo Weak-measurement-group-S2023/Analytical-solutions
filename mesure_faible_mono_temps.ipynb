{
 "cells": [
  {
   "cell_type": "code",
   "execution_count": 8,
   "metadata": {},
   "outputs": [],
   "source": [
    "import sympy as smp\n",
    "from IPython.display import display, Math"
   ]
  },
  {
   "cell_type": "code",
   "execution_count": 9,
   "metadata": {},
   "outputs": [],
   "source": [
    "a = smp.symbols('a', real=False, complex = True)\n",
    "t = smp.symbols('t', real=True)\n",
    "o = smp.symbols(r'\\sigma', real=True, positive = True)\n",
    "b = smp.symbols('b', real=False, complex = True)\n",
    "d = smp.symbols(r'\\delta', real=True)\n",
    "z = smp.symbols('z', real=True)\n",
    "k = smp.symbols('k', real=True, positive=True)\n",
    "w = smp.symbols(r'\\omega', real=True, positive=True)\n",
    "tau = smp.symbols(r'\\tau', real=True)\n",
    "c = smp.symbols('c', real=True, positive=True, constant=True)\n",
    "delta_D = smp.symbols(r'\\Delta', real=True)"
   ]
  },
  {
   "cell_type": "code",
   "execution_count": 10,
   "metadata": {},
   "outputs": [
    {
     "data": {
      "text/latex": [
       "$\\displaystyle E_{i}(z,t)) = E_{0} e^{i \\left(- \\omega t + k z\\right)}$"
      ],
      "text/plain": [
       "<IPython.core.display.Math object>"
      ]
     },
     "metadata": {},
     "output_type": "display_data"
    },
    {
     "data": {
      "text/latex": [
       "$\\displaystyle E_{f}(z,t+\\tau)) = \\frac{\\sqrt{2} \\left(E_{0} e^{i \\left(- \\omega t + k z\\right)} + E_{0} e^{i \\left(- \\omega \\left(\\tau + t\\right) + k z\\right)}\\right)}{2}$"
      ],
      "text/plain": [
       "<IPython.core.display.Math object>"
      ]
     },
     "metadata": {},
     "output_type": "display_data"
    },
    {
     "data": {
      "text/latex": [
       "$\\displaystyle |E_{1}(z,t)> = E_{0} a e^{i \\left(- \\omega t + k z\\right)}$"
      ],
      "text/plain": [
       "<IPython.core.display.Math object>"
      ]
     },
     "metadata": {},
     "output_type": "display_data"
    },
    {
     "data": {
      "text/latex": [
       "$\\displaystyle |E_{2}(z,t+\\tau)> = E_{0} b e^{i \\left(- \\omega \\left(\\tau + t\\right) + k z\\right)}$"
      ],
      "text/plain": [
       "<IPython.core.display.Math object>"
      ]
     },
     "metadata": {},
     "output_type": "display_data"
    },
    {
     "data": {
      "text/latex": [
       "$\\displaystyle E_{0} \\hat{U} a e^{i \\left(- \\omega t + k z\\right)} = E_{0} a e^{i \\left(- \\omega \\left(\\tau + t\\right) + k z\\right)}$"
      ],
      "text/plain": [
       "<IPython.core.display.Math object>"
      ]
     },
     "metadata": {},
     "output_type": "display_data"
    },
    {
     "data": {
      "text/latex": [
       "$\\displaystyle \\hat{U} = e^{- i \\omega \\tau}$"
      ],
      "text/plain": [
       "<IPython.core.display.Math object>"
      ]
     },
     "metadata": {},
     "output_type": "display_data"
    },
    {
     "data": {
      "text/latex": [
       "$\\displaystyle |E_{f}(z,t)> = <D|\\hat{U}|E_{i}(z,t)> = \\frac{\\sqrt{2} \\left(E_{0} a e^{i \\left(- \\omega t + k z\\right)} + E_{0} b e^{i \\left(- \\omega \\left(\\tau + t\\right) + k z\\right)}\\right)}{2}$"
      ],
      "text/plain": [
       "<IPython.core.display.Math object>"
      ]
     },
     "metadata": {},
     "output_type": "display_data"
    }
   ],
   "source": [
    "E_0 = smp.symbols(r'E_0', real=True)\n",
    "delta_D = smp.symbols(r'\\Delta', real=True, positive=True)\n",
    "xi_1 = E_0*smp.exp(smp.I*(k*z - w*t))\n",
    "xi_2 = E_0*smp.exp(smp.I*(k*(z) - w*(t+tau)))\n",
    "\n",
    "E_i = (xi_1+xi_1)/2\n",
    "display(Math(r'E_{i}(z,t)) = '+smp.latex(E_i)))\n",
    "\n",
    "E_f = (xi_1+xi_2)/smp.sqrt(2)\n",
    "display(Math(r'E_{f}(z,t+\\tau)) = '+smp.latex(E_f)))\n",
    "\n",
    "E_1 = xi_1*a #celui faible\n",
    "E_2 = xi_2*b\n",
    "display(Math(r'|E_{1}(z,t)> = '+smp.latex(E_1)))\n",
    "display(Math(r'|E_{2}(z,t+\\tau)> = '+smp.latex(E_2)))\n",
    "\n",
    "#résourd l'opérateur d'interaction\n",
    "U = smp.symbols(r'\\hat{U}')\n",
    "eq1 = smp.Eq(U*E_1, a*E_2/b)\n",
    "display(Math(smp.latex(eq1)))\n",
    "eq2 = smp.solve(eq1, U)\n",
    "U = eq2[0].simplify()\n",
    "display(Math(r'\\hat{U} = ' + smp.latex(U)))\n",
    "\n",
    "#postselection sur D = 1/sqrt(2)*(H_faible + V)\n",
    "E_w = ((1/smp.sqrt(2))*(E_1 + E_2))\n",
    "#mesure faible sur H\n",
    "display(Math(r'|E_{f}(z,t)> = <D|\\hat{U}|E_{i}(z,t)> = ' + smp.latex(E_w)))"
   ]
  },
  {
   "cell_type": "code",
   "execution_count": 11,
   "metadata": {},
   "outputs": [
    {
     "data": {
      "text/latex": [
       "$\\displaystyle I(z,t+\\tau) =\\frac{E_{0}^{2} \\left(\\cos{\\left(\\omega \\tau \\right)} + 1\\right)}{2}$"
      ],
      "text/plain": [
       "<IPython.core.display.Math object>"
      ]
     },
     "metadata": {},
     "output_type": "display_data"
    }
   ],
   "source": [
    "I_d = smp.re(smp.conjugate(E_f)*E_f)/2\n",
    "display(Math(r'I(z,t+\\tau) ='+smp.latex(I_d.simplify())))"
   ]
  },
  {
   "cell_type": "code",
   "execution_count": 12,
   "metadata": {},
   "outputs": [
    {
     "data": {
      "text/latex": [
       "$\\displaystyle G(\\tau) = E_{0}^{2} b e^{- i \\left(- \\omega t + k z\\right)} e^{i \\left(- \\omega \\left(\\tau + t\\right) + k z\\right)} \\overline{a}$"
      ],
      "text/plain": [
       "<IPython.core.display.Math object>"
      ]
     },
     "metadata": {},
     "output_type": "display_data"
    },
    {
     "data": {
      "text/latex": [
       "$\\displaystyle G(0) = E_{0}^{2} a \\overline{a}$"
      ],
      "text/plain": [
       "<IPython.core.display.Math object>"
      ]
     },
     "metadata": {},
     "output_type": "display_data"
    },
    {
     "data": {
      "text/latex": [
       "$\\displaystyle g^{(1)}(\\tau) = \\frac{b e^{- i \\omega \\tau}}{a}$"
      ],
      "text/plain": [
       "<IPython.core.display.Math object>"
      ]
     },
     "metadata": {},
     "output_type": "display_data"
    }
   ],
   "source": [
    "G_1_TAU = smp.conjugate(E_1)*E_2\n",
    "display(Math(r'G(\\tau) = ' + smp.latex(G_1_TAU)))\n",
    "G_1_ZERO = smp.conjugate(E_1)*E_1\n",
    "display(Math(r'G(0) = ' + smp.latex(G_1_ZERO.simplify())))\n",
    "\n",
    "g_1 = (G_1_TAU/G_1_ZERO).simplify()\n",
    "display(Math(r'g^{(1)}(\\tau) = ' + smp.latex(g_1)))"
   ]
  },
  {
   "cell_type": "code",
   "execution_count": 13,
   "metadata": {},
   "outputs": [
    {
     "data": {
      "text/latex": [
       "$\\displaystyle V=\\frac{2 b \\sqrt{a \\overline{a}} \\sqrt{b \\overline{b}} e^{- i \\omega \\tau}}{a \\left(a \\overline{a} + b \\overline{b}\\right)}$"
      ],
      "text/plain": [
       "<IPython.core.display.Math object>"
      ]
     },
     "metadata": {},
     "output_type": "display_data"
    }
   ],
   "source": [
    "I_1 = (smp.conjugate(E_1)*E_1)\n",
    "I_2 = (smp.conjugate(E_2)*E_2)\n",
    "\n",
    "V = ((2*smp.sqrt(I_1)*smp.sqrt(I_2))/(I_1+I_2))*(g_1)\n",
    "display(Math(r'V='+smp.latex(V.simplify().doit())))"
   ]
  },
  {
   "cell_type": "code",
   "execution_count": 14,
   "metadata": {},
   "outputs": [
    {
     "data": {
      "text/latex": [
       "$\\displaystyle S(f) = E_{0}^{2} b \\overline{a} \\int\\limits_{-\\infty}^{\\infty} e^{- 4 i \\pi \\tau f}\\, d\\tau$"
      ],
      "text/plain": [
       "<IPython.core.display.Math object>"
      ]
     },
     "metadata": {},
     "output_type": "display_data"
    }
   ],
   "source": [
    "f = smp.symbols('f', real=True, constante=True, positive=True)\n",
    "G_1_TAU=G_1_TAU.subs(w, 2*smp.pi*f)\n",
    "#using the autocorrelation function\n",
    "S = (smp.integrate(G_1_TAU*smp.exp(-smp.I*2*smp.pi*f*tau), (tau, -smp.oo, smp.oo)))\n",
    "display(Math(r'S(f) = ' + smp.latex(S.doit().simplify())))"
   ]
  },
  {
   "cell_type": "code",
   "execution_count": null,
   "metadata": {},
   "outputs": [],
   "source": []
  }
 ],
 "metadata": {
  "kernelspec": {
   "display_name": "Python 3",
   "language": "python",
   "name": "python3"
  },
  "language_info": {
   "codemirror_mode": {
    "name": "ipython",
    "version": 3
   },
   "file_extension": ".py",
   "mimetype": "text/x-python",
   "name": "python",
   "nbconvert_exporter": "python",
   "pygments_lexer": "ipython3",
   "version": "3.11.4"
  },
  "orig_nbformat": 4
 },
 "nbformat": 4,
 "nbformat_minor": 2
}
